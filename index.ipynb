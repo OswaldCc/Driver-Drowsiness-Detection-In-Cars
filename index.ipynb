{
  "cells": [
    {
      "cell_type": "markdown",
      "metadata": {
        "id": "view-in-github",
        "colab_type": "text"
      },
      "source": [
        "<a href=\"https://colab.research.google.com/github/OswaldCc/Driver-Drowsiness-Detection-In-Cars/blob/main/index.ipynb\" target=\"_parent\"><img src=\"https://colab.research.google.com/assets/colab-badge.svg\" alt=\"Open In Colab\"/></a>"
      ]
    },
    {
      "cell_type": "markdown",
      "metadata": {
        "id": "4jFQqG95WKn6"
      },
      "source": [
        "# Problem Definition\n",
        "## Specifying the Question\n",
        "Deploy a neural network model to a webcam application that will give an alert to the driver if they have their eyes closed for more than 3 seconds."
      ]
    },
    {
      "cell_type": "markdown",
      "metadata": {
        "id": "GcjW3VWnWKoA"
      },
      "source": [
        "## Defining the metrics for success\n",
        "This study will be considered successful if:\n",
        "- It achieves an AUC score of 0.97."
      ]
    },
    {
      "cell_type": "markdown",
      "metadata": {
        "id": "iBbRZgFFWKoB"
      },
      "source": [
        "## Understanding the context\n",
        "For drowsiness detection, our goal is to correctly detect whether one has their eyes open or closed. If the eyes remain closed for more than three seconds the driver should receive an alert to wake them up. According to the following article by WebMD, if you doze off for 3 seconds while at a speed of 27 meters per second you can travel 92 meters in the wrong direction and another article by the NSW Health Organization states that during a four-second microsleep, a car traveling at 100 km/h will travel 111 meters while completely out of the driver’s control."
      ]
    },
    {
      "cell_type": "markdown",
      "metadata": {
        "id": "y2ngqISLWKoQ"
      },
      "source": [
        "## Data Understanding\n",
        "The data is from [Kaggle](<https://www.kaggle.com/datasets/prasadvpatil/mrl-dataset>) it was created with the help of a larger-scale dataset of human eyes from Media Research Lab.\n",
        "\n",
        "The dataset contains images of the eye state whether open or closed. Of the 4000 images, 2000 are open eyes, and 2000 are closed eyes some with glasses some without. The images have a bit depth of 8. The dataset contains images with high and low resolution since they were captured by different devices under different lighting conditions."
      ]
    },
    {
      "cell_type": "markdown",
      "metadata": {
        "id": "wcVlhlvWWKoR"
      },
      "source": [
        "### Loading Libraries"
      ]
    },
    {
      "cell_type": "code",
      "execution_count": 93,
      "metadata": {
        "id": "EWk6HpRvQLC6"
      },
      "outputs": [],
      "source": [
        "#Importing libraries\n",
        "\n",
        "\n",
        "import cv2\n",
        "import os\n",
        "import numpy as np\n",
        "import pandas as pd\n",
        "from sklearn.model_selection import train_test_split,GridSearchCV\n",
        "from sklearn.metrics import confusion_matrix\n",
        "from sklearn.metrics import roc_curve, accuracy_score, auc, plot_roc_curve, roc_auc_score,recall_score, precision_score, f1_score\n",
        "from tensorflow.keras.wrappers.scikit_learn import KerasClassifier\n",
        "from tensorflow.keras.models import Sequential\n",
        "from tensorflow.keras.layers import Dense, Flatten, Conv2D, MaxPooling2D, Dropout\n",
        "from tensorflow.keras import layers\n",
        "from keras.applications.vgg19 import VGG19\n",
        "import matplotlib.pyplot as plt\n",
        "from PIL import Image as im\n",
        "import seaborn as sns\n",
        "import tensorflow as tf\n",
        "tf.random.set_seed(2)\n",
        "import warnings\n",
        "warnings.filterwarnings(\"ignore\", category=DeprecationWarning)"
      ]
    },
    {
      "cell_type": "markdown",
      "metadata": {
        "id": "eKNwAsxTWKoV"
      },
      "source": [
        "### Loading Data"
      ]
    },
    {
      "cell_type": "code",
      "execution_count": 94,
      "metadata": {
        "id": "3qxl7NJlWKoX",
        "outputId": "c89f22a5-033f-4809-dc24-fa1fa351a049",
        "colab": {
          "base_uri": "https://localhost:8080/"
        }
      },
      "outputs": [
        {
          "output_type": "stream",
          "name": "stdout",
          "text": [
            "Drive already mounted at /content/drive; to attempt to forcibly remount, call drive.mount(\"/content/drive\", force_remount=True).\n"
          ]
        }
      ],
      "source": [
        "#Connecting colab to gooogle drive\n",
        "from google.colab import drive\n",
        "drive.mount('/content/drive')"
      ]
    },
    {
      "cell_type": "code",
      "execution_count": 95,
      "metadata": {
        "id": "uC8NCSujQLC_"
      },
      "outputs": [],
      "source": [
        "#Loading images from the folders and labelling them\n",
        "def load_images_from_folder(folder,eyes):\n",
        "    images=[]\n",
        "    for filename in os.listdir(folder):\n",
        "        img=cv2.imread(os.path.join(folder,filename))\n",
        "        img=cv2.resize(img,(80,80))\n",
        "        images.append([img,eyes])\n",
        "    return images"
      ]
    },
    {
      "cell_type": "code",
      "execution_count": 96,
      "metadata": {
        "id": "Xdj_Wv74QLDA"
      },
      "outputs": [],
      "source": [
        "\n",
        "folder=\"/content/drive/Shareddrives/Elite Drive/train/Closed_Eyes\"\n",
        "open_eyes=load_images_from_folder(folder,0)\n",
        "\n",
        "folder=\"/content/drive/Shareddrives/Elite Drive/train/Open_Eyes\"\n",
        "closed_eyes=load_images_from_folder(folder,1)\n"
      ]
    },
    {
      "cell_type": "code",
      "execution_count": 97,
      "metadata": {
        "colab": {
          "base_uri": "https://localhost:8080/"
        },
        "id": "ie2W2xu2QLDB",
        "outputId": "bbe709c2-968f-46ab-a37e-82dff2c3c7ff"
      },
      "outputs": [
        {
          "output_type": "stream",
          "name": "stdout",
          "text": [
            "2000\n",
            "2000\n"
          ]
        }
      ],
      "source": [
        "#Number of Images\n",
        "#\n",
        "print(len(open_eyes))\n",
        "print(len(closed_eyes))"
      ]
    },
    {
      "cell_type": "markdown",
      "metadata": {
        "id": "sZcoT2e9WKoe"
      },
      "source": [
        "### Previewing Data"
      ]
    },
    {
      "cell_type": "code",
      "execution_count": 98,
      "metadata": {
        "colab": {
          "base_uri": "https://localhost:8080/",
          "height": 97
        },
        "id": "m6bp0M9bQLDD",
        "outputId": "7e6e7006-7671-48dc-9268-56c0ab06ac3d"
      },
      "outputs": [
        {
          "output_type": "execute_result",
          "data": {
            "text/plain": [
              "<PIL.Image.Image image mode=RGB size=80x80 at 0x7F9A0A15F810>"
            ],
            "image/png": "[encoded data removed]"
          },
          "metadata": {},
          "execution_count": 98
        }
      ],
      "source": [
        "#Displaying image to confirm that they have been loaded \n",
        "from PIL import Image as im\n",
        "data=im.fromarray(open_eyes[0][0])\n",
        "data"
      ]
    },
    {
      "cell_type": "code",
      "execution_count": 99,
      "metadata": {
        "id": "hImdKBX8QLDE"
      },
      "outputs": [],
      "source": [
        "#Combining the open and closed eye data \n",
        "eyes=open_eyes+closed_eyes"
      ]
    },
    {
      "cell_type": "markdown",
      "metadata": {
        "id": "VRWvqWpWWKog"
      },
      "source": [
        "### Reshaping, Normalization and Splitting"
      ]
    },
    {
      "cell_type": "code",
      "execution_count": 100,
      "metadata": {
        "id": "9RPxlJ7iQLDE"
      },
      "outputs": [],
      "source": [
        "#Setting up images with X being images and y being labels\n",
        "X=[]\n",
        "y=[]\n",
        "\n",
        "for features, label in eyes:\n",
        "    X.append(features)\n",
        "    y.append(label)\n",
        "\n"
      ]
    },
    {
      "cell_type": "code",
      "execution_count": 101,
      "metadata": {
        "id": "Ix16sKZMQLDF"
      },
      "outputs": [],
      "source": [
        "#Converting image to array for modelling and scaling by dividing by 255\n",
        "X=np.array(X).reshape(-1,80,80,3)\n",
        "y=np.array(y)\n",
        "X=X/255.0"
      ]
    },
    {
      "cell_type": "code",
      "execution_count": 102,
      "metadata": {
        "id": "kgh9SapZQLDF"
      },
      "outputs": [],
      "source": [
        "# Splitting the data \n",
        "\n",
        "X_train,X_test,y_train,y_test=train_test_split(X,y,random_state=23 )\n"
      ]
    },
    {
      "cell_type": "code",
      "execution_count": 103,
      "metadata": {
        "colab": {
          "base_uri": "https://localhost:8080/",
          "height": 277
        },
        "id": "m5VlFontQLDG",
        "outputId": "1d086a9c-c17d-4c5c-bd64-d6e9dcf05d63"
      },
      "outputs": [
        {
          "output_type": "display_data",
          "data": {
            "text/plain": [
              "<Figure size 432x288 with 1 Axes>"
            ],
            "image/png": "[encoded data removed]"
          },
          "metadata": {}
        }
      ],
      "source": [
        "#confirming that split ran okay\n",
        "\n",
        "plt.figure()\n",
        "plt.imshow(X_train[10])\n",
        "plt.show()"
      ]
    },
    {
      "cell_type": "code",
      "execution_count": 104,
      "metadata": {
        "id": "WHK7KS7EQLDq"
      },
      "outputs": [],
      "source": [
        "#class names for images shown below \n",
        "\n",
        "class_names=['open','close']"
      ]
    },
    {
      "cell_type": "code",
      "execution_count": 105,
      "metadata": {
        "colab": {
          "base_uri": "https://localhost:8080/",
          "height": 259
        },
        "id": "2V_4OMskQLDr",
        "outputId": "3509b784-68fa-4ed2-e0a3-dfe6afc40fd1"
      },
      "outputs": [
        {
          "output_type": "display_data",
          "data": {
            "text/plain": [
              "<Figure size 720x720 with 10 Axes>"
            ],
            "image/png": "[encoded data removed]"
          },
          "metadata": {}
        }
      ],
      "source": [
        "#producing images of training set with corresponding label\n",
        "plt.figure(figsize=(10,10))\n",
        "for i in range(10):\n",
        "    plt.subplot(5,5,i+1)\n",
        "    plt.xticks([])\n",
        "    plt.yticks([])\n",
        "    plt.imshow(X_train[i], cmap=plt.cm.binary)\n",
        "    plt.xlabel(class_names[y_train[i]],)"
      ]
    },
    {
      "cell_type": "code",
      "execution_count": 106,
      "metadata": {
        "id": "8PokRSYjQLDr"
      },
      "outputs": [],
      "source": [
        "#Reshping imags to 80*80*3 just incase \n",
        "X_train=X_train.reshape(X_train.shape[0], 80,80,3)\n",
        "X_test=X_test.reshape(X_test.shape[0], 80,80,3)"
      ]
    },
    {
      "cell_type": "markdown",
      "metadata": {
        "id": "5FFAfafsWKol"
      },
      "source": [
        "# Modelling"
      ]
    },
    {
      "cell_type": "code",
      "execution_count": 107,
      "metadata": {
        "id": "5r6CbwO-QLDs"
      },
      "outputs": [],
      "source": [
        "#creating a function that returns a Keras model\n",
        "def deep_learning_model(dense_neurons1=128,dense_neurons2=128,dense_neurons3=128,layout='',filters=32,dropout=None,pooling=None):\n",
        "  model=Sequential()\n",
        "  if layout== '5x5':\n",
        "    model.add(Conv2D(filters=filters, kernel_size=(5,5),activation='relu',input_shape=(80,80,3)))\n",
        "\n",
        "  if layout=='3x3'or layout== '2*3x3':\n",
        "    model.add(Conv2D(filters=filters,kernel_size=(3,3),activation='relu',input_shape=(80,80,3)))\n",
        "\n",
        "#adding pooling for convlutional layers\n",
        "  if pooling!=None:\n",
        "    model.add(MaxPooling2D(pool_size=(2,2)))\n",
        "\n",
        "  if layout=='2*3x3':\n",
        "    #second layer\n",
        "      model.add(Conv2D(filters=filters,kernel_size=(3,3),activation='relu',input_shape=(80,80,3)))\n",
        "#adding pooling on 2*3x3\n",
        "  if pooling !=None and layout =='2*3x3':\n",
        "    model.add(MaxPooling2D(pool_size=(2,2)))\n",
        "\n",
        "#flatten model for dense layers\n",
        "  model.add(Flatten())\n",
        "  model.add(Dense(dense_neurons1,activation='relu'))\n",
        "  if dropout!=None:\n",
        "    model.add(Dropout(dropout))\n",
        "  model.add(Dense(dense_neurons2,activation='relu'))\n",
        "  if dropout!=None:\n",
        "    model.add(Dropout(dropout))\n",
        "  model.add(Dense(dense_neurons3,activation='relu'))\n",
        "  if dropout!=None:\n",
        "    model.add(Dropout(dropout))\n",
        "\n",
        "#adding output layer\n",
        "\n",
        "  model.add(Dense(1,activation='sigmoid'))\n",
        "\n",
        "  #compiling using binary cross entropy and using AUC as metric \n",
        "  model.compile(loss='binary_crossentropy', optimizer='adam',metrics=[tf.keras.metrics.AUC(curve='PR')])\n",
        "\n",
        "  return model\n",
        "\n",
        "\n",
        "\n",
        "\n",
        "\n",
        "\n",
        "\n",
        "    \n"
      ]
    },
    {
      "cell_type": "code",
      "execution_count": 108,
      "metadata": {
        "id": "4qzzlFvAQZ0R"
      },
      "outputs": [],
      "source": [
        "#Defining an earlystop callback\n",
        "early_stop=tf.keras.callbacks.EarlyStopping(patience=5, min_delta=.05)"
      ]
    },
    {
      "cell_type": "code",
      "execution_count": 109,
      "metadata": {
        "id": "3WD6IGSGANsy"
      },
      "outputs": [],
      "source": [
        "#first grid search parameters\n",
        "params_deep={\n",
        "    \"layout\":['3x3','5x5','2*3x3'],\n",
        "    \"dense_neurons1\":[64,128],\n",
        "    'filters':[8,18,32],\n",
        "    \"dropout\":[0.1,0.5,],\n",
        "    \"pooling\":[None,1],\n",
        "    \"epochs\":[10]\n",
        "\n",
        "}"
      ]
    },
    {
      "cell_type": "code",
      "execution_count": 110,
      "metadata": {
        "id": "kW2FkD-LB7gP"
      },
      "outputs": [],
      "source": [
        "nn_deep=KerasClassifier(build_fn=deep_learning_model, batch_size=200)\n",
        "gs_deep=GridSearchCV(estimator=nn_deep,param_grid=params_deep,cv=3,scoring='average_precision')\n",
        "gs_deep.fit(X_train, y_train,validation_data=(X_test,y_test),callbacks=[early_stop])"
      ]
    },
    {
      "cell_type": "code",
      "execution_count": 112,
      "metadata": {
        "id": "Wuji_I-2kLW8"
      },
      "outputs": [],
      "source": [
        "print(f'Best Accuracy for {gs_deep.best_score_} using {gs_deep.best_params_}')\n"
      ]
    },
    {
      "cell_type": "markdown",
      "metadata": {
        "id": "gYpVErNMmQbq"
      },
      "source": [
        "From this grid search we find the best layout to be 2*3x3 with 32 filters. This means we will have two convolution layers with a kernel size of (3,3) representing the height and width of the filter. We will perform other iterations on the same layout but with three layers of dense neurons and different hyperparameters."
      ]
    },
    {
      "cell_type": "code",
      "execution_count": 113,
      "metadata": {
        "id": "COngo1TgkndG"
      },
      "outputs": [],
      "source": [
        "#Second grid search parameters\n",
        "params_deep_two={\n",
        "    \"layout\":['2*3x3'],\n",
        "    \"dense_neurons1\":[128,256],\n",
        "    \"dense_neurons2\":[256,512],\n",
        "    \"dense_neurons3\":[256,512],\n",
        "    'filters':[32],\n",
        "    \"dropout\":[0,0.1,0.3,0.5,],\n",
        "    \"pooling\":[None,1],\n",
        "    \"epochs\":[20]\n",
        "\n",
        "}"
      ]
    },
    {
      "cell_type": "code",
      "execution_count": 114,
      "metadata": {
        "id": "ZmfI_zTQn4N9"
      },
      "outputs": [],
      "source": [
        "nn_deep=KerasClassifier(build_fn=deep_learning_model, batch_size=200)\n",
        "gs_deep=GridSearchCV(estimator=nn_deep,param_grid=params_deep_two,cv=3,scoring='average_precision')\n",
        "gs_deep.fit(X_train, y_train,validation_data=(X_test,y_test),callbacks=[early_stop])"
      ]
    },
    {
      "cell_type": "code",
      "execution_count": 116,
      "metadata": {
        "id": "EdEftNugxYJ8"
      },
      "outputs": [],
      "source": [
        "print(f'Best Accuracy for {gs_deep.best_score_} using {gs_deep.best_params_}')"
      ]
    },
    {
      "cell_type": "markdown",
      "metadata": {
        "id": "G_C7mcgnWKor"
      },
      "source": [
        "## Grid search Analysis"
      ]
    },
    {
      "cell_type": "markdown",
      "metadata": {
        "id": "xA-RRlX-pJEi"
      },
      "source": [
        "Given that we have an accuracy of 0.998397543919476, which is better than the neural network architecture with one dense layer at 0.999472216392248  , we can take these as the  parameters to build our final model."
      ]
    },
    {
      "cell_type": "markdown",
      "metadata": {
        "id": "3ANZ0RLMyMvD"
      },
      "source": [
        "Final model for Export\n",
        "\n",
        "AUC score of model produced by grid search: 0.9998397543919476\n",
        "\n",
        "Parameters of best model produced by grid search:\n",
        "\n",
        "- dense_neurons1: 256,\n",
        "- dense_neurons2: 512,\n",
        "- dense_neurons3: 512, \n",
        "- dropout: 0.3, \n",
        "- epochs: 20, \n",
        "- filters: 32, \n",
        "- layout: '2*3x3', \n",
        "- pooling: 1\n",
        "\n",
        "\n"
      ]
    },
    {
      "cell_type": "code",
      "execution_count": 117,
      "metadata": {
        "colab": {
          "base_uri": "https://localhost:8080/"
        },
        "id": "Mr_pRWWZyBWh",
        "outputId": "f8963e7e-42a3-463b-c3bd-3fa0f8b31546"
      },
      "outputs": [
        {
          "output_type": "stream",
          "name": "stdout",
          "text": [
            "Epoch 1/20\n",
            "15/15 [==============================] - 2s 64ms/step - loss: 0.6614 - auc_3: 0.6350 - val_loss: 0.4158 - val_auc_3: 0.9441\n",
            "Epoch 2/20\n",
            "15/15 [==============================] - 1s 39ms/step - loss: 0.4157 - auc_3: 0.9011 - val_loss: 0.2357 - val_auc_3: 0.9856\n",
            "Epoch 3/20\n",
            "15/15 [==============================] - 1s 38ms/step - loss: 0.1811 - auc_3: 0.9826 - val_loss: 0.0833 - val_auc_3: 0.9966\n",
            "Epoch 4/20\n",
            "15/15 [==============================] - 1s 38ms/step - loss: 0.0922 - auc_3: 0.9943 - val_loss: 0.0354 - val_auc_3: 0.9992\n",
            "Epoch 5/20\n",
            "15/15 [==============================] - 1s 38ms/step - loss: 0.0413 - auc_3: 0.9981 - val_loss: 0.0188 - val_auc_3: 0.9999\n",
            "Epoch 6/20\n",
            "15/15 [==============================] - 1s 43ms/step - loss: 0.0236 - auc_3: 0.9989 - val_loss: 0.0174 - val_auc_3: 0.9999\n",
            "Epoch 7/20\n",
            "15/15 [==============================] - 1s 37ms/step - loss: 0.0228 - auc_3: 0.9997 - val_loss: 0.0052 - val_auc_3: 1.0000\n",
            "Epoch 8/20\n",
            "15/15 [==============================] - 1s 37ms/step - loss: 0.0152 - auc_3: 0.9992 - val_loss: 0.0040 - val_auc_3: 1.0000\n",
            "Epoch 9/20\n",
            "15/15 [==============================] - 1s 38ms/step - loss: 0.0133 - auc_3: 0.9999 - val_loss: 0.0048 - val_auc_3: 1.0000\n",
            "Epoch 10/20\n",
            "15/15 [==============================] - 1s 37ms/step - loss: 0.0084 - auc_3: 1.0000 - val_loss: 0.0061 - val_auc_3: 1.0000\n",
            "Epoch 11/20\n",
            "15/15 [==============================] - 1s 38ms/step - loss: 0.0048 - auc_3: 1.0000 - val_loss: 0.0077 - val_auc_3: 1.0000\n",
            "Epoch 12/20\n",
            "15/15 [==============================] - 1s 38ms/step - loss: 0.0038 - auc_3: 1.0000 - val_loss: 0.0066 - val_auc_3: 1.0000\n",
            "Epoch 13/20\n",
            "15/15 [==============================] - 1s 38ms/step - loss: 0.0021 - auc_3: 1.0000 - val_loss: 0.0052 - val_auc_3: 1.0000\n",
            "Epoch 14/20\n",
            "15/15 [==============================] - 1s 38ms/step - loss: 0.0030 - auc_3: 1.0000 - val_loss: 0.0172 - val_auc_3: 0.9959\n",
            "Epoch 15/20\n",
            "15/15 [==============================] - 1s 38ms/step - loss: 0.0070 - auc_3: 1.0000 - val_loss: 0.0209 - val_auc_3: 0.9977\n",
            "Epoch 16/20\n",
            "15/15 [==============================] - 1s 37ms/step - loss: 0.0100 - auc_3: 0.9993 - val_loss: 0.0162 - val_auc_3: 0.9958\n",
            "Epoch 17/20\n",
            "15/15 [==============================] - 1s 43ms/step - loss: 0.0061 - auc_3: 1.0000 - val_loss: 0.0021 - val_auc_3: 1.0000\n",
            "Epoch 18/20\n",
            "15/15 [==============================] - 1s 39ms/step - loss: 0.0080 - auc_3: 1.0000 - val_loss: 0.0123 - val_auc_3: 0.9979\n",
            "Epoch 19/20\n",
            "15/15 [==============================] - 1s 39ms/step - loss: 0.0056 - auc_3: 1.0000 - val_loss: 0.0118 - val_auc_3: 0.9979\n",
            "Epoch 20/20\n",
            "15/15 [==============================] - 1s 38ms/step - loss: 0.0016 - auc_3: 1.0000 - val_loss: 0.0071 - val_auc_3: 1.0000\n"
          ]
        }
      ],
      "source": [
        "#instantiate the model\n",
        "model=Sequential()\n",
        "\n",
        "#adding first convolution layer\n",
        "model.add(Conv2D(filters=32,kernel_size=(3,3),activation='relu'))\n",
        "#maxpooling after convolution layer\n",
        "model.add(MaxPooling2D(pool_size=(2,2)))\n",
        "\n",
        "#adding another convolution layer\n",
        "model.add(Conv2D(filters=32,kernel_size=(3,3),activation='relu'))\n",
        "#maxpooling after convolution layer\n",
        "model.add(MaxPooling2D(pool_size=(2,2)))\n",
        "\n",
        "model.add(Flatten())\n",
        "\n",
        "#adding first dense layer with 256 nodes\n",
        "model.add(Dense(256, activation='relu'))\n",
        "#adding a dropout layer to avoid overfitting\n",
        "model.add(Dropout(0.3))\n",
        "\n",
        "#adding second dense layer with 512 nodes\n",
        "model.add(Dense(512, activation='relu'))\n",
        "#adding a dropout layer to avoid overfitting\n",
        "model.add(Dropout(0.3))\n",
        "\n",
        "#adding third dense layer with 512 nodes\n",
        "model.add(Dense(512, activation='relu'))\n",
        "#adding a dropout layer to avoid overfitting\n",
        "model.add(Dropout(0.3))\n",
        "\n",
        "#Output layer\n",
        "model.add(Dense(1, activation='sigmoid'))\n",
        "#compiling \n",
        "model.compile(loss='binary_crossentropy',optimizer='adam', metrics=[tf.keras.metrics.AUC(curve='PR')])\n",
        "\n",
        "#fitting on train data\n",
        "history=model.fit(X_train,y_train,batch_size=200, epochs=20, validation_data=(X_test,y_test))"
      ]
    },
    {
      "cell_type": "code",
      "execution_count": 118,
      "metadata": {
        "colab": {
          "base_uri": "https://localhost:8080/"
        },
        "id": "1p6QK6C26jkD",
        "outputId": "a7a883d7-2464-4aa8-b380-58ddd489a69d"
      },
      "outputs": [
        {
          "output_type": "stream",
          "name": "stdout",
          "text": [
            "Model: \"sequential_4\"\n",
            "_________________________________________________________________\n",
            " Layer (type)                Output Shape              Param #   \n",
            "=================================================================\n",
            " conv2d_4 (Conv2D)           (200, 78, 78, 32)         896       \n",
            "                                                                 \n",
            " max_pooling2d_4 (MaxPooling  (200, 39, 39, 32)        0         \n",
            " 2D)                                                             \n",
            "                                                                 \n",
            " conv2d_5 (Conv2D)           (200, 37, 37, 32)         9248      \n",
            "                                                                 \n",
            " max_pooling2d_5 (MaxPooling  (200, 18, 18, 32)        0         \n",
            " 2D)                                                             \n",
            "                                                                 \n",
            " flatten_4 (Flatten)         (200, 10368)              0         \n",
            "                                                                 \n",
            " dense_12 (Dense)            (200, 256)                2654464   \n",
            "                                                                 \n",
            " dropout_6 (Dropout)         (200, 256)                0         \n",
            "                                                                 \n",
            " dense_13 (Dense)            (200, 512)                131584    \n",
            "                                                                 \n",
            " dropout_7 (Dropout)         (200, 512)                0         \n",
            "                                                                 \n",
            " dense_14 (Dense)            (200, 512)                262656    \n",
            "                                                                 \n",
            " dropout_8 (Dropout)         (200, 512)                0         \n",
            "                                                                 \n",
            " dense_15 (Dense)            (200, 1)                  513       \n",
            "                                                                 \n",
            "=================================================================\n",
            "Total params: 3,059,361\n",
            "Trainable params: 3,059,361\n",
            "Non-trainable params: 0\n",
            "_________________________________________________________________\n"
          ]
        }
      ],
      "source": [
        "model.summary()"
      ]
    },
    {
      "cell_type": "code",
      "execution_count": 119,
      "metadata": {
        "colab": {
          "base_uri": "https://localhost:8080/"
        },
        "id": "cwKZpPgG6onn",
        "outputId": "62ca871b-dea1-46f3-d4f4-c4cde9177564"
      },
      "outputs": [
        {
          "output_type": "stream",
          "name": "stdout",
          "text": [
            "94/94 [==============================] - 1s 5ms/step - loss: 2.9328e-04 - auc_3: 1.0000\n",
            "Training Loss: 0.00029328104574233294 \n",
            "Training auc score: 1.0\n",
            "----------\n",
            "32/32 [==============================] - 0s 5ms/step - loss: 0.0071 - auc_3: 1.0000\n",
            "Test Loss: 0.007078550755977631 \n",
            "Test auc score: 0.9999833106994629\n"
          ]
        }
      ],
      "source": [
        "# function to evaluate model\n",
        "def evaluate(model):\n",
        "  results_train = model.evaluate(X_train, y_train)\n",
        "  print(f'Training Loss: {results_train[0]} \\nTraining auc score: {results_train[1]}')\n",
        "\n",
        "  print('----------')\n",
        "\n",
        "  results_test =model.evaluate(X_test, y_test)\n",
        "  print(f'Test Loss: {results_test[0]} \\nTest auc score: {results_test[1]}')\n",
        "\n",
        "\n",
        "\n",
        "\n",
        "evaluate(model)"
      ]
    },
    {
      "cell_type": "code",
      "execution_count": 120,
      "metadata": {
        "id": "bXMjukTzWKov"
      },
      "outputs": [],
      "source": [
        "# Plot the loss and auc curves for training and validation \n",
        "def evaluation_visual(model,auc,val_auc):\n",
        "  fig, ax = plt.subplots(2,1,figsize=(10,8))\n",
        "  ax[0].plot(model.history['loss'], color='b', label=\"Training loss\")\n",
        "  ax[0].plot(model.history['val_loss'], color='r', label=\"validation loss\",axes =ax[0])\n",
        "  legend = ax[0].legend(loc='best', shadow=True)\n",
        "  plt.xlabel('Epoch')\n",
        "  plt.ylabel('Metric')\n",
        "\n",
        " \n",
        "  ax[1].plot(model.history[auc], color='b', label=\"Training auc score\")\n",
        "  ax[1].plot(model.history[val_auc], color='r',label=\"Validation auc score\")\n",
        "  legend = ax[1].legend(loc='best', shadow=True)\n",
        "  plt.xlabel('Epoch')\n",
        "  plt.ylabel('Metric')\n"
      ]
    },
    {
      "cell_type": "code",
      "execution_count": 122,
      "metadata": {
        "id": "bJ9HGfVoWKov",
        "outputId": "1d6a69a6-6f34-477e-c0be-848feb7815ee",
        "colab": {
          "base_uri": "https://localhost:8080/",
          "height": 512
        }
      },
      "outputs": [
        {
          "output_type": "display_data",
          "data": {
            "text/plain": [
              "<Figure size 720x576 with 2 Axes>"
            ],
            "image/png": "[encoded data removed]"
          },
          "metadata": {}
        }
      ],
      "source": [
        "\n",
        "evaluation_visual(history,'auc_3','val_auc_3')"
      ]
    },
    {
      "cell_type": "code",
      "execution_count": 123,
      "metadata": {
        "colab": {
          "base_uri": "https://localhost:8080/"
        },
        "id": "qIUfxnxV77Xo",
        "outputId": "eb657822-ab6b-43aa-e4d6-3e574875d24c"
      },
      "outputs": [
        {
          "output_type": "execute_result",
          "data": {
            "text/plain": [
              "array([[5.30118949e-10],\n",
              "       [1.00000000e+00],\n",
              "       [3.78961182e-08],\n",
              "       [1.00000000e+00],\n",
              "       [9.99989152e-01],\n",
              "       [2.34702857e-05],\n",
              "       [9.99987245e-01],\n",
              "       [1.06010589e-07],\n",
              "       [5.12037190e-10],\n",
              "       [7.03804091e-08],\n",
              "       [9.99993324e-01],\n",
              "       [9.99996901e-01],\n",
              "       [1.80873400e-10],\n",
              "       [9.93748903e-11],\n",
              "       [3.02280614e-06],\n",
              "       [1.00000000e+00],\n",
              "       [1.83075870e-04],\n",
              "       [9.99980092e-01],\n",
              "       [4.22475194e-10],\n",
              "       [1.00000000e+00],\n",
              "       [1.00000000e+00],\n",
              "       [1.00000000e+00],\n",
              "       [1.68892038e-05],\n",
              "       [2.15268052e-08],\n",
              "       [1.00000000e+00],\n",
              "       [5.06074384e-11],\n",
              "       [1.66124994e-06],\n",
              "       [2.20383684e-10],\n",
              "       [1.00000000e+00],\n",
              "       [9.99777377e-01],\n",
              "       [7.25740611e-05],\n",
              "       [1.00000000e+00],\n",
              "       [1.75752376e-07],\n",
              "       [1.00000000e+00],\n",
              "       [9.99873638e-01],\n",
              "       [1.02222812e-05],\n",
              "       [2.29823468e-06],\n",
              "       [1.21815301e-05],\n",
              "       [1.00000000e+00],\n",
              "       [1.00000000e+00],\n",
              "       [4.12293957e-06],\n",
              "       [1.02215751e-07],\n",
              "       [4.16495232e-06],\n",
              "       [9.99999762e-01],\n",
              "       [1.18525741e-05],\n",
              "       [3.75966563e-10],\n",
              "       [2.31207105e-06],\n",
              "       [1.00000000e+00],\n",
              "       [1.14434073e-07],\n",
              "       [2.46499383e-07],\n",
              "       [6.95150959e-08],\n",
              "       [3.65449615e-10],\n",
              "       [7.79470213e-07],\n",
              "       [9.99998569e-01],\n",
              "       [2.34074651e-06],\n",
              "       [9.99981523e-01],\n",
              "       [2.06944060e-06],\n",
              "       [4.85085320e-06],\n",
              "       [9.99821842e-01],\n",
              "       [1.00000000e+00],\n",
              "       [1.00000000e+00],\n",
              "       [4.70852975e-11],\n",
              "       [1.00000000e+00],\n",
              "       [1.00000000e+00],\n",
              "       [1.00000000e+00],\n",
              "       [2.72145417e-06],\n",
              "       [9.99809563e-01],\n",
              "       [5.50879697e-08],\n",
              "       [9.99992490e-01],\n",
              "       [1.00000000e+00],\n",
              "       [9.99693274e-01],\n",
              "       [1.00000000e+00],\n",
              "       [1.00000000e+00],\n",
              "       [7.35085678e-06],\n",
              "       [9.99936461e-01],\n",
              "       [9.33851334e-06],\n",
              "       [1.00000000e+00],\n",
              "       [1.00000000e+00],\n",
              "       [9.99995589e-01],\n",
              "       [1.00000000e+00],\n",
              "       [7.48319280e-07],\n",
              "       [1.00000000e+00],\n",
              "       [2.36477972e-05],\n",
              "       [2.88192936e-08],\n",
              "       [5.27266347e-05],\n",
              "       [9.99626756e-01],\n",
              "       [9.99976873e-01],\n",
              "       [8.69224168e-05],\n",
              "       [9.99977708e-01],\n",
              "       [2.21557130e-07],\n",
              "       [4.83846225e-06],\n",
              "       [3.07657544e-08],\n",
              "       [3.19225979e-10],\n",
              "       [2.38236382e-08],\n",
              "       [9.99760568e-01],\n",
              "       [8.88712930e-06],\n",
              "       [3.54530448e-06],\n",
              "       [1.37096449e-05],\n",
              "       [1.00000000e+00],\n",
              "       [2.60163633e-05],\n",
              "       [1.46114064e-06],\n",
              "       [2.86547897e-09],\n",
              "       [1.00000000e+00],\n",
              "       [1.65033697e-07],\n",
              "       [9.99974728e-01],\n",
              "       [1.30282018e-07],\n",
              "       [9.99998808e-01],\n",
              "       [7.49408719e-06],\n",
              "       [2.57591364e-06],\n",
              "       [9.99999762e-01],\n",
              "       [1.70654839e-05],\n",
              "       [1.00000000e+00],\n",
              "       [3.12823900e-08],\n",
              "       [4.07306788e-06],\n",
              "       [3.04222425e-07],\n",
              "       [9.06491823e-06],\n",
              "       [1.00000000e+00],\n",
              "       [3.98490796e-09],\n",
              "       [1.05873596e-05],\n",
              "       [1.00000000e+00],\n",
              "       [3.76653126e-08],\n",
              "       [9.99999762e-01],\n",
              "       [3.49667545e-10],\n",
              "       [1.70279105e-04],\n",
              "       [1.03102102e-05],\n",
              "       [9.99151945e-01],\n",
              "       [5.98292991e-06],\n",
              "       [9.99985814e-01],\n",
              "       [8.01936185e-05],\n",
              "       [6.69445262e-06],\n",
              "       [2.44622922e-09],\n",
              "       [1.40135971e-05],\n",
              "       [1.37057126e-04],\n",
              "       [1.00000000e+00],\n",
              "       [9.99384522e-01],\n",
              "       [2.04120397e-06],\n",
              "       [1.00000000e+00],\n",
              "       [1.00000000e+00],\n",
              "       [1.00000000e+00],\n",
              "       [1.00000000e+00],\n",
              "       [1.00000000e+00],\n",
              "       [8.72400321e-08],\n",
              "       [4.50948392e-06],\n",
              "       [2.00999693e-06],\n",
              "       [3.42255080e-05],\n",
              "       [1.00000000e+00],\n",
              "       [2.00364593e-05],\n",
              "       [1.00000000e+00],\n",
              "       [9.99997497e-01],\n",
              "       [4.37121173e-07],\n",
              "       [1.00000000e+00],\n",
              "       [1.94911104e-06],\n",
              "       [9.99437392e-01],\n",
              "       [9.99914289e-01],\n",
              "       [4.09153690e-05],\n",
              "       [9.99994993e-01],\n",
              "       [8.31136913e-06],\n",
              "       [2.65975619e-09],\n",
              "       [1.07877320e-04],\n",
              "       [1.63269590e-07],\n",
              "       [9.99986887e-01],\n",
              "       [9.99988794e-01],\n",
              "       [9.99985337e-01],\n",
              "       [1.00000000e+00],\n",
              "       [1.00000000e+00],\n",
              "       [1.00000000e+00],\n",
              "       [1.00000000e+00],\n",
              "       [9.99990106e-01],\n",
              "       [9.99916315e-01],\n",
              "       [1.60129634e-08],\n",
              "       [1.00000000e+00],\n",
              "       [9.99952555e-01],\n",
              "       [1.61447679e-05],\n",
              "       [9.99855757e-01],\n",
              "       [1.00000000e+00],\n",
              "       [8.61954563e-10],\n",
              "       [1.00000000e+00],\n",
              "       [5.78975179e-09],\n",
              "       [1.00000000e+00],\n",
              "       [1.00000000e+00],\n",
              "       [9.98857021e-01],\n",
              "       [3.43808642e-05],\n",
              "       [9.99991059e-01],\n",
              "       [4.59718940e-05],\n",
              "       [1.16806370e-06],\n",
              "       [9.99970436e-01],\n",
              "       [7.52369989e-09],\n",
              "       [1.00000000e+00],\n",
              "       [1.00000000e+00],\n",
              "       [5.47661948e-05],\n",
              "       [1.00000000e+00],\n",
              "       [2.88007209e-06],\n",
              "       [3.28993277e-10],\n",
              "       [1.15635055e-04],\n",
              "       [1.00000000e+00],\n",
              "       [5.11255482e-10],\n",
              "       [1.00000000e+00],\n",
              "       [3.66449240e-06],\n",
              "       [4.20147428e-09],\n",
              "       [9.99930263e-01],\n",
              "       [1.31626919e-07],\n",
              "       [3.52365532e-05],\n",
              "       [1.00000000e+00],\n",
              "       [1.44166691e-07],\n",
              "       [9.99987364e-01],\n",
              "       [4.92627744e-11],\n",
              "       [1.45543647e-10],\n",
              "       [9.99987245e-01],\n",
              "       [1.00000000e+00],\n",
              "       [1.00000000e+00],\n",
              "       [1.00000000e+00],\n",
              "       [3.93859273e-06],\n",
              "       [1.23108801e-09],\n",
              "       [1.03267138e-10],\n",
              "       [1.32234163e-06],\n",
              "       [1.00000000e+00],\n",
              "       [9.99999285e-01],\n",
              "       [9.99545395e-01],\n",
              "       [1.00000000e+00],\n",
              "       [2.38397206e-05],\n",
              "       [9.99999762e-01],\n",
              "       [1.99591432e-09],\n",
              "       [9.99940395e-01],\n",
              "       [9.99997854e-01],\n",
              "       [9.99666095e-01],\n",
              "       [5.01899785e-06],\n",
              "       [2.19973503e-04],\n",
              "       [1.00000000e+00],\n",
              "       [1.68900241e-10],\n",
              "       [8.16636930e-06],\n",
              "       [4.26565464e-07],\n",
              "       [5.29199884e-09],\n",
              "       [1.00000000e+00],\n",
              "       [1.00000000e+00],\n",
              "       [9.99982238e-01],\n",
              "       [9.99961257e-01],\n",
              "       [4.45867343e-09],\n",
              "       [3.56696728e-10],\n",
              "       [6.48529266e-08],\n",
              "       [8.15582825e-05],\n",
              "       [5.52618585e-05],\n",
              "       [9.99832630e-01],\n",
              "       [5.53099540e-07],\n",
              "       [9.99763072e-01],\n",
              "       [9.99967575e-01],\n",
              "       [1.79920229e-04],\n",
              "       [3.55010229e-06],\n",
              "       [5.82386156e-06],\n",
              "       [9.99999642e-01],\n",
              "       [2.29767885e-08],\n",
              "       [1.00000000e+00],\n",
              "       [9.99996066e-01],\n",
              "       [1.13994274e-05],\n",
              "       [4.73453127e-07],\n",
              "       [1.00000000e+00],\n",
              "       [1.00000000e+00],\n",
              "       [9.99998927e-01],\n",
              "       [1.00000000e+00],\n",
              "       [1.00000000e+00],\n",
              "       [2.23061548e-07],\n",
              "       [2.46890486e-05],\n",
              "       [5.73174566e-06],\n",
              "       [5.01409841e-06],\n",
              "       [1.52021858e-05],\n",
              "       [9.99809086e-01],\n",
              "       [1.00000000e+00],\n",
              "       [2.42905827e-07],\n",
              "       [4.06442352e-10],\n",
              "       [9.99998093e-01],\n",
              "       [9.99963284e-01],\n",
              "       [1.51687900e-05],\n",
              "       [1.00000000e+00],\n",
              "       [1.46631329e-08],\n",
              "       [2.20968718e-06],\n",
              "       [2.42368060e-07],\n",
              "       [1.06518519e-05],\n",
              "       [9.99601305e-01],\n",
              "       [1.00000000e+00],\n",
              "       [1.25435781e-05],\n",
              "       [9.99032617e-01],\n",
              "       [1.00000000e+00],\n",
              "       [1.61441580e-08],\n",
              "       [1.85810331e-05],\n",
              "       [1.00000000e+00],\n",
              "       [9.99987721e-01],\n",
              "       [7.85990687e-06],\n",
              "       [1.87031389e-07],\n",
              "       [1.00000000e+00],\n",
              "       [1.00000000e+00],\n",
              "       [1.52114342e-06],\n",
              "       [6.52605013e-05],\n",
              "       [1.00000000e+00],\n",
              "       [1.00000000e+00],\n",
              "       [5.21578659e-06],\n",
              "       [7.28567829e-06],\n",
              "       [7.04222998e-07],\n",
              "       [9.99729097e-01],\n",
              "       [1.00000000e+00],\n",
              "       [1.83458382e-04],\n",
              "       [4.97606561e-06],\n",
              "       [1.00000000e+00],\n",
              "       [5.47553157e-07],\n",
              "       [2.25163589e-07],\n",
              "       [1.00000000e+00],\n",
              "       [5.19483443e-08],\n",
              "       [1.98869810e-09],\n",
              "       [9.99726474e-01],\n",
              "       [2.96944131e-06],\n",
              "       [9.99977827e-01],\n",
              "       [1.00000000e+00],\n",
              "       [4.01686890e-07],\n",
              "       [1.93373162e-09],\n",
              "       [1.94209929e-06],\n",
              "       [9.99999762e-01],\n",
              "       [1.17143436e-05],\n",
              "       [9.99991775e-01],\n",
              "       [1.38313605e-09],\n",
              "       [1.69017716e-04],\n",
              "       [4.64204480e-10],\n",
              "       [4.10092434e-06],\n",
              "       [1.45060719e-08],\n",
              "       [8.50013237e-07],\n",
              "       [9.99897242e-01],\n",
              "       [3.13071902e-10],\n",
              "       [1.00000000e+00],\n",
              "       [1.00000000e+00],\n",
              "       [1.00000000e+00],\n",
              "       [3.62183073e-06],\n",
              "       [2.39320536e-10],\n",
              "       [2.41967317e-08],\n",
              "       [1.19361730e-05],\n",
              "       [9.03521959e-06],\n",
              "       [9.99928832e-01],\n",
              "       [9.99997258e-01],\n",
              "       [5.84122699e-06],\n",
              "       [1.00000000e+00],\n",
              "       [1.64430583e-06],\n",
              "       [9.99999762e-01],\n",
              "       [9.99662280e-01],\n",
              "       [1.00000000e+00],\n",
              "       [1.96114488e-05],\n",
              "       [1.70242820e-10],\n",
              "       [1.00000000e+00],\n",
              "       [1.00000000e+00],\n",
              "       [2.65497295e-08],\n",
              "       [1.00000000e+00],\n",
              "       [1.00000000e+00],\n",
              "       [1.00000000e+00],\n",
              "       [9.99984622e-01],\n",
              "       [9.96444404e-01],\n",
              "       [2.78213310e-08],\n",
              "       [9.99999404e-01],\n",
              "       [1.00000000e+00],\n",
              "       [3.14795147e-06],\n",
              "       [1.00000000e+00],\n",
              "       [2.72065398e-10],\n",
              "       [9.35852107e-09],\n",
              "       [3.55763169e-10],\n",
              "       [4.46963867e-07],\n",
              "       [1.30020944e-05],\n",
              "       [4.55452209e-08],\n",
              "       [1.00000000e+00],\n",
              "       [1.00000000e+00],\n",
              "       [9.99858618e-01],\n",
              "       [2.59338484e-09],\n",
              "       [3.28397363e-08],\n",
              "       [9.99998331e-01],\n",
              "       [9.99999881e-01],\n",
              "       [5.24717443e-08],\n",
              "       [9.03762102e-01],\n",
              "       [9.99999762e-01],\n",
              "       [9.99999523e-01],\n",
              "       [1.00000000e+00],\n",
              "       [1.04531966e-06],\n",
              "       [9.99998331e-01],\n",
              "       [1.01654296e-05],\n",
              "       [9.26750729e-08],\n",
              "       [1.00000000e+00],\n",
              "       [9.99980092e-01],\n",
              "       [9.99996543e-01],\n",
              "       [1.00000000e+00],\n",
              "       [1.00000000e+00],\n",
              "       [4.03665712e-10],\n",
              "       [1.00000000e+00],\n",
              "       [9.99968648e-01],\n",
              "       [4.78490279e-07],\n",
              "       [5.61312754e-06],\n",
              "       [9.99959588e-01],\n",
              "       [5.62477886e-09],\n",
              "       [2.19230145e-08],\n",
              "       [9.99993205e-01],\n",
              "       [9.99985218e-01],\n",
              "       [2.10134999e-06],\n",
              "       [1.00000000e+00],\n",
              "       [6.92414037e-09],\n",
              "       [4.55773034e-06],\n",
              "       [5.85033695e-06],\n",
              "       [9.99927402e-01],\n",
              "       [1.89635987e-08],\n",
              "       [1.00000000e+00],\n",
              "       [1.15573166e-05],\n",
              "       [9.53838025e-05],\n",
              "       [9.99937534e-01],\n",
              "       [1.00000000e+00],\n",
              "       [1.00000000e+00],\n",
              "       [2.06148866e-06],\n",
              "       [1.00000000e+00],\n",
              "       [1.00000000e+00],\n",
              "       [2.07101602e-05],\n",
              "       [1.00968367e-09],\n",
              "       [1.00000000e+00],\n",
              "       [1.00000000e+00],\n",
              "       [1.20693926e-07],\n",
              "       [4.00723010e-10],\n",
              "       [3.29133940e-07],\n",
              "       [2.03526695e-04],\n",
              "       [1.00000000e+00],\n",
              "       [1.00000000e+00],\n",
              "       [3.17021289e-08],\n",
              "       [2.14870533e-06],\n",
              "       [7.31172113e-05],\n",
              "       [1.34017773e-06],\n",
              "       [1.00000000e+00],\n",
              "       [9.99963880e-01],\n",
              "       [1.72482105e-05],\n",
              "       [1.27350459e-05],\n",
              "       [1.00000000e+00],\n",
              "       [1.00000000e+00],\n",
              "       [4.06652407e-06],\n",
              "       [9.99840975e-01],\n",
              "       [1.00000000e+00],\n",
              "       [5.24350241e-07],\n",
              "       [1.48695777e-04],\n",
              "       [9.99990821e-01],\n",
              "       [1.00000000e+00],\n",
              "       [1.00000000e+00],\n",
              "       [9.98940647e-01],\n",
              "       [4.71695891e-08],\n",
              "       [9.99999881e-01],\n",
              "       [6.78731203e-06],\n",
              "       [1.00000000e+00],\n",
              "       [9.99992251e-01],\n",
              "       [9.99994755e-01],\n",
              "       [9.99999881e-01],\n",
              "       [1.00000000e+00],\n",
              "       [4.86441554e-09],\n",
              "       [4.87143270e-10],\n",
              "       [9.99997854e-01],\n",
              "       [6.84813628e-08],\n",
              "       [1.57683753e-05],\n",
              "       [1.00000000e+00],\n",
              "       [5.24507300e-08],\n",
              "       [1.39271567e-10],\n",
              "       [1.86515681e-05],\n",
              "       [2.25668264e-05],\n",
              "       [9.99830127e-01],\n",
              "       [1.00000000e+00],\n",
              "       [3.22696069e-05],\n",
              "       [4.37154653e-11],\n",
              "       [9.99999404e-01],\n",
              "       [1.88736176e-05],\n",
              "       [9.99999642e-01],\n",
              "       [9.99702990e-01],\n",
              "       [1.00000000e+00],\n",
              "       [1.00000000e+00],\n",
              "       [1.00000000e+00],\n",
              "       [1.00000000e+00],\n",
              "       [2.21900763e-07],\n",
              "       [6.08131714e-08],\n",
              "       [1.48778940e-06],\n",
              "       [1.00000000e+00],\n",
              "       [9.20986349e-06],\n",
              "       [6.25637360e-04],\n",
              "       [4.32601212e-07],\n",
              "       [1.00000000e+00],\n",
              "       [1.00000000e+00],\n",
              "       [2.66309765e-08],\n",
              "       [2.00079703e-05],\n",
              "       [9.99627471e-01],\n",
              "       [2.08417053e-08],\n",
              "       [9.99903679e-01],\n",
              "       [1.70188329e-07],\n",
              "       [1.05392965e-05],\n",
              "       [6.96016578e-10],\n",
              "       [1.48062861e-06],\n",
              "       [1.00000000e+00],\n",
              "       [9.99993443e-01],\n",
              "       [1.00000000e+00],\n",
              "       [4.31358330e-07],\n",
              "       [9.30117403e-06],\n",
              "       [1.99567340e-03],\n",
              "       [9.99999404e-01],\n",
              "       [1.07297028e-05],\n",
              "       [1.00000000e+00],\n",
              "       [2.26465319e-10],\n",
              "       [9.93761837e-01],\n",
              "       [1.00000000e+00],\n",
              "       [4.46911727e-05],\n",
              "       [1.00000000e+00],\n",
              "       [1.00000000e+00],\n",
              "       [4.68448270e-05],\n",
              "       [1.00000000e+00],\n",
              "       [9.99998569e-01],\n",
              "       [1.00000000e+00],\n",
              "       [1.00000000e+00],\n",
              "       [1.00000000e+00],\n",
              "       [9.60331672e-05],\n",
              "       [9.99932766e-01],\n",
              "       [2.43749878e-06],\n",
              "       [9.99954820e-01],\n",
              "       [2.17837078e-06],\n",
              "       [1.00000000e+00],\n",
              "       [1.00000000e+00],\n",
              "       [1.00000000e+00],\n",
              "       [1.00000000e+00],\n",
              "       [9.99701440e-01],\n",
              "       [9.99999762e-01],\n",
              "       [3.97017672e-08],\n",
              "       [9.99926567e-01],\n",
              "       [1.00000000e+00],\n",
              "       [1.24038643e-05],\n",
              "       [1.00000000e+00],\n",
              "       [6.07503296e-07],\n",
              "       [7.81502331e-06],\n",
              "       [9.99994636e-01],\n",
              "       [6.18971470e-08],\n",
              "       [6.33483168e-08],\n",
              "       [9.99999523e-01],\n",
              "       [1.00000000e+00],\n",
              "       [1.00000000e+00],\n",
              "       [6.24995607e-07],\n",
              "       [1.00000000e+00],\n",
              "       [9.44519343e-08],\n",
              "       [1.79101480e-05],\n",
              "       [1.00000000e+00],\n",
              "       [9.98177886e-01],\n",
              "       [1.15493448e-10],\n",
              "       [1.00000000e+00],\n",
              "       [9.99996901e-01],\n",
              "       [9.99999523e-01],\n",
              "       [1.21840631e-05],\n",
              "       [1.00000000e+00],\n",
              "       [5.06086599e-06],\n",
              "       [9.99990344e-01],\n",
              "       [7.18126287e-08],\n",
              "       [3.57698260e-10],\n",
              "       [6.14405099e-06],\n",
              "       [1.00000000e+00],\n",
              "       [4.04345826e-07],\n",
              "       [1.00000000e+00],\n",
              "       [9.99955297e-01],\n",
              "       [1.00000000e+00],\n",
              "       [1.00000000e+00],\n",
              "       [3.56268829e-05],\n",
              "       [4.87384204e-05],\n",
              "       [9.99727666e-01],\n",
              "       [2.81487451e-06],\n",
              "       [3.95100379e-08],\n",
              "       [1.73093406e-06],\n",
              "       [5.10442855e-10],\n",
              "       [9.99983311e-01],\n",
              "       [1.00000000e+00],\n",
              "       [9.46074441e-10],\n",
              "       [9.99990821e-01],\n",
              "       [8.20706904e-01],\n",
              "       [4.07134803e-06],\n",
              "       [1.39896965e-05],\n",
              "       [9.99906421e-01],\n",
              "       [1.00000000e+00],\n",
              "       [9.99977112e-01],\n",
              "       [9.96346891e-01],\n",
              "       [1.00000000e+00],\n",
              "       [1.00000000e+00],\n",
              "       [1.00000000e+00],\n",
              "       [1.00000000e+00],\n",
              "       [9.99998212e-01],\n",
              "       [9.99995947e-01],\n",
              "       [1.84785429e-04],\n",
              "       [9.99909997e-01],\n",
              "       [9.99984980e-01],\n",
              "       [1.54251411e-05],\n",
              "       [2.20078733e-10],\n",
              "       [9.95734751e-01],\n",
              "       [1.00000000e+00],\n",
              "       [9.99890089e-01],\n",
              "       [2.22376025e-06],\n",
              "       [1.00000000e+00],\n",
              "       [2.87667945e-06],\n",
              "       [1.00000000e+00],\n",
              "       [1.00000000e+00],\n",
              "       [1.00000000e+00],\n",
              "       [1.00000000e+00],\n",
              "       [2.36655637e-07],\n",
              "       [9.99679804e-01],\n",
              "       [9.99999166e-01],\n",
              "       [1.00000000e+00],\n",
              "       [1.00000000e+00],\n",
              "       [9.99952078e-01],\n",
              "       [1.00000000e+00],\n",
              "       [9.99993205e-01],\n",
              "       [7.13955274e-07],\n",
              "       [1.00000000e+00],\n",
              "       [9.47414769e-09],\n",
              "       [9.99663472e-01],\n",
              "       [9.99876380e-01],\n",
              "       [2.08771013e-07],\n",
              "       [6.53413212e-10],\n",
              "       [1.04088793e-10],\n",
              "       [1.00000000e+00],\n",
              "       [1.00000000e+00],\n",
              "       [9.99936938e-01],\n",
              "       [1.46964403e-05],\n",
              "       [2.47568755e-06],\n",
              "       [6.72381040e-11],\n",
              "       [7.58340324e-09],\n",
              "       [1.01142740e-10],\n",
              "       [4.37440758e-06],\n",
              "       [2.15168893e-06],\n",
              "       [9.99982595e-01],\n",
              "       [2.44850708e-06],\n",
              "       [5.13528171e-08],\n",
              "       [1.00000000e+00],\n",
              "       [5.17273975e-06],\n",
              "       [1.00000000e+00],\n",
              "       [1.12566331e-05],\n",
              "       [9.92657959e-01],\n",
              "       [2.77104641e-06],\n",
              "       [1.00000000e+00],\n",
              "       [9.99997258e-01],\n",
              "       [9.99779522e-01],\n",
              "       [1.00000000e+00],\n",
              "       [9.99112785e-01],\n",
              "       [3.05134337e-03],\n",
              "       [2.20445770e-07],\n",
              "       [2.14453157e-05],\n",
              "       [9.99985933e-01],\n",
              "       [3.48350513e-05],\n",
              "       [8.14524537e-06],\n",
              "       [1.00000000e+00],\n",
              "       [5.19011500e-10],\n",
              "       [1.00000000e+00],\n",
              "       [1.00000000e+00],\n",
              "       [5.01579643e-06],\n",
              "       [1.45971962e-05],\n",
              "       [9.52316987e-06],\n",
              "       [9.99996185e-01],\n",
              "       [6.17668832e-07],\n",
              "       [7.87442423e-06],\n",
              "       [1.00000000e+00],\n",
              "       [1.00000000e+00],\n",
              "       [5.22619757e-06],\n",
              "       [1.82917717e-08],\n",
              "       [9.99961495e-01],\n",
              "       [1.00000000e+00],\n",
              "       [1.00000000e+00],\n",
              "       [1.18825883e-05],\n",
              "       [9.94238973e-01],\n",
              "       [1.34711499e-07],\n",
              "       [5.66402377e-06],\n",
              "       [9.99941945e-01],\n",
              "       [1.00000000e+00],\n",
              "       [1.00000000e+00],\n",
              "       [9.20924867e-06],\n",
              "       [2.52544805e-06],\n",
              "       [2.25933964e-05],\n",
              "       [2.24154132e-06],\n",
              "       [1.00000000e+00],\n",
              "       [9.99999881e-01],\n",
              "       [4.77795811e-06],\n",
              "       [9.99937057e-01],\n",
              "       [1.00000000e+00],\n",
              "       [9.99996305e-01],\n",
              "       [7.63496101e-01],\n",
              "       [1.54192297e-04],\n",
              "       [5.89558056e-07],\n",
              "       [2.61492896e-05],\n",
              "       [9.99998569e-01],\n",
              "       [9.99798596e-01],\n",
              "       [9.99979615e-01],\n",
              "       [9.99166489e-01],\n",
              "       [1.00000000e+00],\n",
              "       [1.89839120e-05],\n",
              "       [2.07633462e-07],\n",
              "       [6.75700207e-08],\n",
              "       [9.99986410e-01],\n",
              "       [1.00000000e+00],\n",
              "       [1.16696253e-06],\n",
              "       [9.99407768e-01],\n",
              "       [1.37607081e-09],\n",
              "       [1.00000000e+00],\n",
              "       [1.00000000e+00],\n",
              "       [1.11927686e-04],\n",
              "       [9.99976397e-01],\n",
              "       [9.55337320e-09],\n",
              "       [4.08436017e-06],\n",
              "       [9.99998331e-01],\n",
              "       [9.99984264e-01],\n",
              "       [3.65967276e-06],\n",
              "       [1.33755248e-06],\n",
              "       [1.95584107e-07],\n",
              "       [4.67917698e-06],\n",
              "       [1.00000000e+00],\n",
              "       [1.34529779e-04],\n",
              "       [9.99985456e-01],\n",
              "       [5.02088682e-09],\n",
              "       [2.98016516e-06],\n",
              "       [1.31611650e-05],\n",
              "       [1.00000000e+00],\n",
              "       [1.00000000e+00],\n",
              "       [9.40106202e-06],\n",
              "       [1.79313781e-06],\n",
              "       [1.00000000e+00],\n",
              "       [1.00000000e+00],\n",
              "       [7.63294850e-08],\n",
              "       [9.99996781e-01],\n",
              "       [1.00000000e+00],\n",
              "       [1.00000000e+00],\n",
              "       [3.91462178e-04],\n",
              "       [9.99973536e-01],\n",
              "       [1.00000000e+00],\n",
              "       [1.00000000e+00],\n",
              "       [9.99976993e-01],\n",
              "       [3.10732212e-05],\n",
              "       [9.99998212e-01],\n",
              "       [9.99691606e-01],\n",
              "       [2.66315419e-06],\n",
              "       [9.99987960e-01],\n",
              "       [9.99996185e-01],\n",
              "       [5.41875033e-06],\n",
              "       [4.88356818e-06],\n",
              "       [1.23203733e-06],\n",
              "       [2.64202799e-10],\n",
              "       [1.85070377e-08],\n",
              "       [9.99996066e-01],\n",
              "       [1.89902649e-09],\n",
              "       [9.99946475e-01],\n",
              "       [1.00000000e+00],\n",
              "       [3.30748044e-05],\n",
              "       [2.49272148e-06],\n",
              "       [1.22929300e-09],\n",
              "       [6.28047347e-09],\n",
              "       [9.99999523e-01],\n",
              "       [3.97176347e-10],\n",
              "       [9.75994626e-05],\n",
              "       [1.00000000e+00],\n",
              "       [3.17635863e-06],\n",
              "       [4.21082041e-05],\n",
              "       [9.97716665e-01],\n",
              "       [9.99999285e-01],\n",
              "       [9.96284306e-01],\n",
              "       [1.00000000e+00],\n",
              "       [1.00000000e+00],\n",
              "       [1.64790652e-08],\n",
              "       [3.66989328e-09],\n",
              "       [9.99888539e-01],\n",
              "       [9.99606192e-01],\n",
              "       [1.00000000e+00],\n",
              "       [3.40758538e-06],\n",
              "       [1.17619550e-07],\n",
              "       [1.20711074e-09],\n",
              "       [4.47504408e-06],\n",
              "       [2.82927282e-08],\n",
              "       [4.25022408e-05],\n",
              "       [1.65589574e-06],\n",
              "       [1.00000000e+00],\n",
              "       [2.03447757e-06],\n",
              "       [9.99993443e-01],\n",
              "       [9.99977589e-01],\n",
              "       [9.97341216e-01],\n",
              "       [1.00000000e+00],\n",
              "       [2.35253794e-09],\n",
              "       [1.32056596e-06],\n",
              "       [9.99999881e-01],\n",
              "       [9.99999881e-01],\n",
              "       [1.00000000e+00],\n",
              "       [1.00000000e+00],\n",
              "       [1.13115379e-06],\n",
              "       [5.82876192e-10],\n",
              "       [1.00000000e+00],\n",
              "       [1.55051683e-09],\n",
              "       [9.99999523e-01],\n",
              "       [1.00000000e+00],\n",
              "       [1.62599099e-06],\n",
              "       [2.00453557e-10],\n",
              "       [2.90663843e-06],\n",
              "       [4.41580113e-07],\n",
              "       [1.89808066e-04],\n",
              "       [2.90951174e-08],\n",
              "       [2.50208154e-06],\n",
              "       [1.01012718e-08],\n",
              "       [9.15805776e-06],\n",
              "       [1.00000000e+00],\n",
              "       [1.00000000e+00],\n",
              "       [1.45187626e-10],\n",
              "       [1.00000000e+00],\n",
              "       [9.97709870e-01],\n",
              "       [7.92515675e-06],\n",
              "       [1.07541837e-06],\n",
              "       [1.00000000e+00],\n",
              "       [6.27515192e-06],\n",
              "       [1.08063205e-05],\n",
              "       [7.39777679e-05],\n",
              "       [6.82670316e-06],\n",
              "       [1.49095385e-07],\n",
              "       [3.38999598e-05],\n",
              "       [9.99999404e-01],\n",
              "       [1.00000000e+00],\n",
              "       [9.99988079e-01],\n",
              "       [1.00000000e+00],\n",
              "       [1.35763463e-08],\n",
              "       [9.07071990e-06],\n",
              "       [1.05995790e-08],\n",
              "       [6.49268441e-06],\n",
              "       [4.61529562e-05],\n",
              "       [1.13864971e-05],\n",
              "       [1.00000000e+00],\n",
              "       [6.66653477e-06],\n",
              "       [1.63049426e-05],\n",
              "       [1.62608487e-08],\n",
              "       [7.50224050e-11],\n",
              "       [7.73632280e-07],\n",
              "       [9.99976277e-01],\n",
              "       [9.99996781e-01],\n",
              "       [7.69460140e-09],\n",
              "       [5.64813404e-11],\n",
              "       [9.50830895e-07],\n",
              "       [4.36284097e-07],\n",
              "       [2.11592166e-08],\n",
              "       [9.99503613e-01],\n",
              "       [1.47444666e-07],\n",
              "       [1.00000000e+00],\n",
              "       [1.00000000e+00],\n",
              "       [9.99331474e-01],\n",
              "       [9.99998569e-01],\n",
              "       [2.88943482e-07],\n",
              "       [1.88351569e-05],\n",
              "       [1.00000000e+00],\n",
              "       [2.52687164e-06],\n",
              "       [1.00000000e+00],\n",
              "       [1.80720207e-07],\n",
              "       [8.87840981e-11],\n",
              "       [9.99999762e-01],\n",
              "       [3.12255786e-08],\n",
              "       [2.24333485e-09],\n",
              "       [1.00000000e+00],\n",
              "       [3.39712564e-10],\n",
              "       [6.94358448e-07],\n",
              "       [2.37146232e-05],\n",
              "       [5.91150019e-05],\n",
              "       [9.99932170e-01],\n",
              "       [1.35685841e-05],\n",
              "       [6.76460957e-07],\n",
              "       [9.99981046e-01],\n",
              "       [8.99036968e-06],\n",
              "       [1.00000000e+00],\n",
              "       [9.99938130e-01],\n",
              "       [3.79455628e-07],\n",
              "       [9.99968290e-01],\n",
              "       [1.00000000e+00],\n",
              "       [1.23227810e-05],\n",
              "       [4.52666571e-10],\n",
              "       [9.99881744e-01],\n",
              "       [1.43452999e-05],\n",
              "       [1.17545873e-07],\n",
              "       [9.99984980e-01],\n",
              "       [3.45707631e-05],\n",
              "       [9.99960780e-01],\n",
              "       [9.99982476e-01],\n",
              "       [2.82407836e-06],\n",
              "       [1.00000000e+00],\n",
              "       [1.00000000e+00],\n",
              "       [1.21524651e-10],\n",
              "       [3.07382152e-06],\n",
              "       [9.99413967e-01],\n",
              "       [5.35840945e-06],\n",
              "       [1.43617640e-07],\n",
              "       [2.07231423e-08],\n",
              "       [3.06345173e-05],\n",
              "       [1.00000000e+00],\n",
              "       [1.00000000e+00],\n",
              "       [1.00000000e+00],\n",
              "       [3.09880726e-08],\n",
              "       [9.98005092e-01],\n",
              "       [9.99970198e-01],\n",
              "       [1.51804688e-05],\n",
              "       [1.00000000e+00],\n",
              "       [6.09303186e-08],\n",
              "       [9.99996901e-01],\n",
              "       [1.53977016e-05],\n",
              "       [3.33431353e-06],\n",
              "       [1.00000000e+00],\n",
              "       [9.99935627e-01],\n",
              "       [2.52746002e-09],\n",
              "       [1.00000000e+00],\n",
              "       [1.12405466e-03],\n",
              "       [9.99998569e-01],\n",
              "       [9.99996901e-01],\n",
              "       [9.99930859e-01],\n",
              "       [9.99976277e-01],\n",
              "       [9.99976873e-01],\n",
              "       [1.00000000e+00],\n",
              "       [5.35886466e-06],\n",
              "       [2.18452537e-04],\n",
              "       [5.72404872e-07],\n",
              "       [2.93434550e-06],\n",
              "       [9.99999881e-01],\n",
              "       [1.42399287e-10],\n",
              "       [1.00000000e+00],\n",
              "       [1.05184264e-10],\n",
              "       [9.99999642e-01],\n",
              "       [1.00000000e+00],\n",
              "       [9.99990225e-01],\n",
              "       [6.15201061e-05],\n",
              "       [5.24498137e-06],\n",
              "       [1.00000000e+00],\n",
              "       [4.44611305e-06],\n",
              "       [9.99966860e-01],\n",
              "       [1.00000000e+00],\n",
              "       [9.99999881e-01],\n",
              "       [1.00000000e+00],\n",
              "       [9.99997735e-01],\n",
              "       [1.00000000e+00],\n",
              "       [2.27222721e-08],\n",
              "       [1.49504385e-05],\n",
              "       [2.24358402e-04],\n",
              "       [9.99843240e-01],\n",
              "       [9.99999404e-01],\n",
              "       [1.67325725e-05],\n",
              "       [1.00000000e+00],\n",
              "       [4.20952028e-06],\n",
              "       [5.79111230e-08],\n",
              "       [9.99994397e-01],\n",
              "       [9.99896407e-01],\n",
              "       [9.75535477e-06],\n",
              "       [2.15197749e-09],\n",
              "       [1.00000000e+00],\n",
              "       [4.78371387e-09],\n",
              "       [1.07582866e-06],\n",
              "       [1.38846945e-05],\n",
              "       [2.16275498e-06],\n",
              "       [4.01330317e-06],\n",
              "       [8.01127109e-10],\n",
              "       [9.99961376e-01],\n",
              "       [1.76946887e-05],\n",
              "       [9.99518394e-01],\n",
              "       [4.95563812e-09],\n",
              "       [6.21126262e-08],\n",
              "       [8.76223112e-07],\n",
              "       [1.00000000e+00],\n",
              "       [1.25687518e-06],\n",
              "       [9.99990702e-01],\n",
              "       [1.25195202e-05],\n",
              "       [1.00000000e+00],\n",
              "       [1.00000000e+00],\n",
              "       [5.63629357e-08],\n",
              "       [9.99959826e-01],\n",
              "       [1.00000000e+00],\n",
              "       [1.00000000e+00],\n",
              "       [3.43238362e-08],\n",
              "       [1.00000000e+00],\n",
              "       [3.96076075e-07],\n",
              "       [5.11475653e-11],\n",
              "       [3.73203079e-06],\n",
              "       [1.00000000e+00],\n",
              "       [1.92719217e-05],\n",
              "       [1.00000000e+00],\n",
              "       [9.99993443e-01],\n",
              "       [1.98665816e-07],\n",
              "       [9.99830365e-01],\n",
              "       [6.27623513e-06],\n",
              "       [9.99986768e-01],\n",
              "       [7.61704314e-07],\n",
              "       [3.04568312e-06],\n",
              "       [1.00000000e+00],\n",
              "       [3.18125931e-05],\n",
              "       [3.16900805e-05],\n",
              "       [1.00000000e+00],\n",
              "       [8.24569906e-06],\n",
              "       [9.99986887e-01],\n",
              "       [1.40338725e-05],\n",
              "       [1.92362375e-08],\n",
              "       [1.06906446e-05],\n",
              "       [9.47656986e-07],\n",
              "       [1.00000000e+00],\n",
              "       [1.30698108e-05],\n",
              "       [1.00000000e+00],\n",
              "       [9.99962330e-01],\n",
              "       [1.79315775e-05],\n",
              "       [9.99999642e-01],\n",
              "       [8.20686168e-08],\n",
              "       [6.94621416e-10],\n",
              "       [4.49246863e-06],\n",
              "       [9.99634504e-01],\n",
              "       [1.00000000e+00],\n",
              "       [1.00000000e+00],\n",
              "       [1.00000000e+00],\n",
              "       [2.18285459e-06],\n",
              "       [9.99993324e-01],\n",
              "       [4.82747382e-05],\n",
              "       [1.19534605e-04]], dtype=float32)"
            ]
          },
          "metadata": {},
          "execution_count": 123
        }
      ],
      "source": [
        "#making predictions\n",
        "preds=model.predict(X_test)\n",
        "preds.round(1)\n",
        "preds"
      ]
    },
    {
      "cell_type": "code",
      "execution_count": 124,
      "metadata": {
        "colab": {
          "base_uri": "https://localhost:8080/"
        },
        "id": "ICfzW29X8Iqv",
        "outputId": "b9168268-c06f-49f8-ea4e-d30c76931f34"
      },
      "outputs": [
        {
          "output_type": "execute_result",
          "data": {
            "text/plain": [
              "array([[508,   2],\n",
              "       [  0, 490]], dtype=int32)"
            ]
          },
          "metadata": {},
          "execution_count": 124
        }
      ],
      "source": [
        "#coming up with a confusion matrix\n",
        "confusion_matrix=tf.math.confusion_matrix(labels=y_test,predictions=preds.round()).numpy()\n",
        "\n",
        "confusion_matrix"
      ]
    },
    {
      "cell_type": "code",
      "execution_count": 125,
      "metadata": {
        "colab": {
          "base_uri": "https://localhost:8080/",
          "height": 448
        },
        "id": "pIM5LvEr8nht",
        "outputId": "f3d3a9e0-aab8-47a8-eb5e-0cf4a940309b"
      },
      "outputs": [
        {
          "output_type": "display_data",
          "data": {
            "text/plain": [
              "<Figure size 432x432 with 2 Axes>"
            ],
            "image/png": "[encoded data removed]"
          },
          "metadata": {}
        }
      ],
      "source": [
        "#visualising the confusion matrix\n",
        "\n",
        "import seaborn as sns \n",
        "figure =plt.figure(figsize=(6,6))\n",
        "sns.set(font_scale=1.4)\n",
        "sns.heatmap(confusion_matrix,annot=True,cmap=plt.cm.Blues,fmt='g')\n",
        "plt.tight_layout()\n",
        "plt.ylabel('True Label')\n",
        "plt.xlabel('Predicted Label')\n",
        "plt.show()"
      ]
    },
    {
      "cell_type": "code",
      "execution_count": 126,
      "metadata": {
        "id": "38-43hJx9y7-"
      },
      "outputs": [],
      "source": [
        "tn, fp, fn, tp =confusion_matrix.ravel()"
      ]
    },
    {
      "cell_type": "code",
      "execution_count": 127,
      "metadata": {
        "colab": {
          "base_uri": "https://localhost:8080/"
        },
        "id": "5nAEiSVi97Fe",
        "outputId": "300ac295-5ef0-40f0-8265-9a9e911e0626"
      },
      "outputs": [
        {
          "output_type": "stream",
          "name": "stdout",
          "text": [
            "recall: 0.9959349593495935\n",
            "precision: 1.0\n",
            "f1_score: 0.4989816700610998\n",
            "accuracy: 0.998\n"
          ]
        }
      ],
      "source": [
        "#Calculating recall\n",
        "recall=tp/(tp+fp)\n",
        "print(f'recall: {recall}')\n",
        "#Calculating precision\n",
        "precision=tp/(tp+fn)\n",
        "print(f'precision: {precision}')\n",
        "#Calculating f1-score\n",
        "f1_score=(precision*recall)/(precision+recall)\n",
        "print(f'f1_score: {f1_score}')\n",
        "#Calculating accuracy\n",
        "accuracy=(tn+tp)/(tn+fp+fn+tp)\n",
        "print(f'accuracy: {accuracy}')"
      ]
    },
    {
      "cell_type": "code",
      "execution_count": 128,
      "metadata": {
        "id": "9wOkEBpKBUrl"
      },
      "outputs": [],
      "source": [
        "#Saving the best model\n",
        "model.save('./webcam_script/final_model.h5')"
      ]
    },
    {
      "cell_type": "markdown",
      "metadata": {
        "id": "YbQE05jgWKo0"
      },
      "source": [
        "# Challenging the model\n",
        "For this section, a transfer learning model will be used to test whether it performs better than the final model chosen from the grid search.Transfer learning for image classification is about leveraging feature representations from a pre-trained model, so you don't have to train a new model from scratch. The pre-trained models are usually trained on massive datasets that are a standard benchmark in the computer vision frontier.\n",
        "\n",
        "More spefically in this project will use VGG19, which is an advanced network with pretrained layers and a better understanding of what defines an image in terms of shape, color, and structure. VGG19 is very deep and has been trained on millions of diverse images with complex classification tasks.\n",
        "\n",
        "VGG19 consists of 19 layers:\n",
        "\n",
        "16 convolution layers\n",
        "5 MaxPool layers\n",
        "1 SoftMax layer\n",
        "3 fully connected layers"
      ]
    },
    {
      "cell_type": "code",
      "execution_count": 129,
      "metadata": {
        "id": "qFaQ54-DWKo1"
      },
      "outputs": [],
      "source": [
        "vgg19_model = VGG19(weights='imagenet',\n",
        "                  include_top=False,\n",
        "                  input_shape=(80, 80, 3))"
      ]
    },
    {
      "cell_type": "markdown",
      "metadata": {
        "id": "DCuasa9uWKo1"
      },
      "source": [
        "The VGG19 model wasn't trained any further, only froze its layers and appended a shallow 2 layer network on top of it to perform my classification task of identifying images of closed and open eyes."
      ]
    },
    {
      "cell_type": "code",
      "execution_count": 130,
      "metadata": {
        "id": "VDRkIaADWKo1"
      },
      "outputs": [],
      "source": [
        "\n",
        "#Add the pretrained model as the first layer and adding dense layers\n",
        "vgg_model =Sequential()\n",
        "vgg_model.add(vgg19_model)\n",
        "vgg_model.add(layers.Flatten())\n",
        "vgg_model.add(layers.Dense(132, activation='relu'))\n",
        "vgg_model.add(layers.Dense(1, activation='sigmoid'))"
      ]
    },
    {
      "cell_type": "markdown",
      "metadata": {
        "id": "DXbfX2sXWKo1"
      },
      "source": [
        "Freezing layers\n",
        "This means that all of the weights associated with that layer(s) will remain unchanged through the optimization process. Freezing the base is important as you wish to preserve the features encoded in this CNN base. Without this, the volatile gradients will quickly erase the useful features of the pretrained model."
      ]
    },
    {
      "cell_type": "code",
      "execution_count": 131,
      "metadata": {
        "id": "uYu1IHXCWKo2",
        "outputId": "a311513c-4f7a-443a-d2db-cb0aae36e254",
        "colab": {
          "base_uri": "https://localhost:8080/"
        }
      },
      "outputs": [
        {
          "output_type": "stream",
          "name": "stdout",
          "text": [
            "vgg19 True\n",
            "flatten_5 True\n",
            "dense_16 True\n",
            "dense_17 True\n",
            "36\n"
          ]
        }
      ],
      "source": [
        "# Checking whether a layer is trainable\n",
        "for layer in vgg_model.layers:\n",
        "    print(layer.name, layer.trainable)\n",
        "    \n",
        "# Checking how many trainable weights are in the model\n",
        "print(len(vgg_model.trainable_weights))"
      ]
    },
    {
      "cell_type": "code",
      "execution_count": 132,
      "metadata": {
        "id": "NXSxaN4EWKo5",
        "outputId": "8b5250d7-8916-4ac6-a320-035a25baf407",
        "colab": {
          "base_uri": "https://localhost:8080/"
        }
      },
      "outputs": [
        {
          "output_type": "stream",
          "name": "stdout",
          "text": [
            "vgg19 True\n",
            "flatten_5 True\n",
            "dense_16 True\n",
            "dense_17 True\n",
            "36\n"
          ]
        }
      ],
      "source": [
        "# Checking whether a layer is trainable\n",
        "for layer in vgg_model.layers:\n",
        "    print(layer.name, layer.trainable)\n",
        "    \n",
        "# Checking how many trainable weights are in the model\n",
        "print(len(vgg_model.trainable_weights))"
      ]
    },
    {
      "cell_type": "code",
      "execution_count": 140,
      "metadata": {
        "id": "w9MQKY0pWKo6",
        "outputId": "bb9734a3-41d2-4323-c8a9-30f8175dff0d",
        "colab": {
          "base_uri": "https://localhost:8080/"
        }
      },
      "outputs": [
        {
          "output_type": "stream",
          "name": "stdout",
          "text": [
            "Epoch 1/10\n",
            "15/15 [==============================] - 9s 511ms/step - loss: 0.0659 - auc_6: 0.9925 - val_loss: 0.0600 - val_auc_6: 0.9972\n",
            "Epoch 2/10\n",
            "15/15 [==============================] - 7s 486ms/step - loss: 0.0144 - auc_6: 0.9998 - val_loss: 0.0210 - val_auc_6: 0.9979\n",
            "Epoch 3/10\n",
            "15/15 [==============================] - 7s 489ms/step - loss: 0.0070 - auc_6: 0.9998 - val_loss: 0.0072 - val_auc_6: 1.0000\n",
            "Epoch 4/10\n",
            "15/15 [==============================] - 7s 490ms/step - loss: 0.0147 - auc_6: 0.9989 - val_loss: 0.0387 - val_auc_6: 0.9969\n",
            "Epoch 5/10\n",
            "15/15 [==============================] - 7s 495ms/step - loss: 0.0118 - auc_6: 0.9997 - val_loss: 0.0094 - val_auc_6: 0.9999\n",
            "Epoch 6/10\n",
            "15/15 [==============================] - 7s 497ms/step - loss: 0.0065 - auc_6: 0.9998 - val_loss: 0.0158 - val_auc_6: 0.9993\n",
            "Epoch 7/10\n",
            "15/15 [==============================] - 7s 498ms/step - loss: 3.0596e-04 - auc_6: 1.0000 - val_loss: 6.4807e-04 - val_auc_6: 1.0000\n",
            "Epoch 8/10\n",
            "15/15 [==============================] - 7s 496ms/step - loss: 5.9334e-05 - auc_6: 1.0000 - val_loss: 4.1295e-05 - val_auc_6: 1.0000\n",
            "Epoch 9/10\n",
            "15/15 [==============================] - 7s 496ms/step - loss: 2.3557e-06 - auc_6: 1.0000 - val_loss: 6.4176e-06 - val_auc_6: 1.0000\n",
            "Epoch 10/10\n",
            "15/15 [==============================] - 7s 491ms/step - loss: 5.3707e-07 - auc_6: 1.0000 - val_loss: 7.1434e-06 - val_auc_6: 1.0000\n"
          ]
        }
      ],
      "source": [
        "#compiling \n",
        "vgg_model.compile(loss='binary_crossentropy',optimizer='adam', metrics=[tf.keras.metrics.AUC(curve='PR')])\n",
        "\n",
        "#fitting on train data\n",
        "history2 = vgg_model.fit(X_train,y_train,batch_size=200, epochs=10,validation_data=(X_test, y_test))"
      ]
    },
    {
      "cell_type": "code",
      "execution_count": 141,
      "metadata": {
        "id": "7VDe6ylKWKo6",
        "outputId": "ad51f570-6d4b-4d16-a017-4336c3ec027e",
        "colab": {
          "base_uri": "https://localhost:8080/"
        }
      },
      "outputs": [
        {
          "output_type": "stream",
          "name": "stdout",
          "text": [
            "Model: \"sequential_5\"\n",
            "_________________________________________________________________\n",
            " Layer (type)                Output Shape              Param #   \n",
            "=================================================================\n",
            " vgg19 (Functional)          (None, 2, 2, 512)         20024384  \n",
            "                                                                 \n",
            " flatten_5 (Flatten)         (None, 2048)              0         \n",
            "                                                                 \n",
            " dense_16 (Dense)            (None, 132)               270468    \n",
            "                                                                 \n",
            " dense_17 (Dense)            (None, 1)                 133       \n",
            "                                                                 \n",
            "=================================================================\n",
            "Total params: 20,294,985\n",
            "Trainable params: 20,294,985\n",
            "Non-trainable params: 0\n",
            "_________________________________________________________________\n"
          ]
        }
      ],
      "source": [
        "vgg_model.summary()"
      ]
    },
    {
      "cell_type": "code",
      "execution_count": 142,
      "metadata": {
        "id": "Aqw1y65FWKo6",
        "outputId": "32ca0c01-8c53-4a47-9a18-786b0d9172d0",
        "colab": {
          "base_uri": "https://localhost:8080/"
        }
      },
      "outputs": [
        {
          "output_type": "stream",
          "name": "stdout",
          "text": [
            "94/94 [==============================] - 3s 33ms/step - loss: 3.5179e-07 - auc_6: 1.0000\n",
            "Training Loss: 3.5179076007807453e-07 \n",
            "Training auc score: 1.0\n",
            "----------\n",
            "32/32 [==============================] - 1s 34ms/step - loss: 7.1433e-06 - auc_6: 1.0000\n",
            "Test Loss: 7.14333646101295e-06 \n",
            "Test auc score: 1.0\n"
          ]
        }
      ],
      "source": [
        "evaluate(vgg_model)"
      ]
    },
    {
      "cell_type": "markdown",
      "source": [
        "The transfer learning model seems to get a slightly better score. It has a score of 1."
      ],
      "metadata": {
        "id": "nALLcEbJaclW"
      }
    },
    {
      "cell_type": "code",
      "execution_count": 143,
      "metadata": {
        "id": "AbuhXYg1WKo7",
        "outputId": "c46a8e4c-a550-4eeb-b13e-a51e6719ba42",
        "colab": {
          "base_uri": "https://localhost:8080/",
          "height": 512
        }
      },
      "outputs": [
        {
          "output_type": "display_data",
          "data": {
            "text/plain": [
              "<Figure size 720x576 with 2 Axes>"
            ],
            "image/png": "[encoded data removed]"
          },
          "metadata": {}
        }
      ],
      "source": [
        "evaluation_visual(history2,'auc_6','val_auc_6')"
      ]
    },
    {
      "cell_type": "markdown",
      "metadata": {
        "id": "kzA6NH-BWKo7"
      },
      "source": [
        "# Areas for Further Research\n",
        "- Low Light conditions, accounting for other passengers\n",
        "- Additional test data for closed eyes\n",
        "- Image augmentation like rotated or flipped images\n",
        "- Deployment of app to remote server"
      ]
    }
  ],
  "metadata": {
    "accelerator": "GPU",
    "colab": {
      "provenance": [],
      "include_colab_link": true
    },
    "gpuClass": "standard",
    "kernelspec": {
      "display_name": "Python 3.9.12 ('base')",
      "language": "python",
      "name": "python3"
    },
    "language_info": {
      "codemirror_mode": {
        "name": "ipython",
        "version": 3
      },
      "file_extension": ".py",
      "mimetype": "text/x-python",
      "name": "python",
      "nbconvert_exporter": "python",
      "pygments_lexer": "ipython3",
      "version": "3.9.12"
    },
    "orig_nbformat": 4,
    "vscode": {
      "interpreter": {
        "hash": "38bd655a959ef317cd07ee04ac9775f7be4538ff32361dcfaef965c848ac4594"
      }
    }
  },
  "nbformat": 4,
  "nbformat_minor": 0
}