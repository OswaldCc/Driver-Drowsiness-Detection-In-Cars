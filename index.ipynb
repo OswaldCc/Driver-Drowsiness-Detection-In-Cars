{
  "cells": [
    {
      "cell_type": "markdown",
      "metadata": {},
      "source": [
        "# Problem Definition\n",
        "## Specifying the Question\n",
        "Deploy a neural network model to a webcam application that will give an alert to the driver if they have their eyes closed for more than 3 seconds."
      ]
    },
    {
      "cell_type": "markdown",
      "metadata": {},
      "source": [
        "## Defining the metrics for success\n",
        "This study will be considered successful if:\n",
        "- It achieves an AUC score of 0.97."
      ]
    },
    {
      "cell_type": "markdown",
      "metadata": {},
      "source": [
        "## Understanding the context\n",
        "For drowsiness detection, our goal is to correctly detect whether one has their eyes open or closed. If the eyes remain closed for more than three seconds the driver should receive an alert to wake them up. According to the following article by WebMD, if you doze off for 3 seconds while at a speed of 27 meters per second you can travel 92 meters in the wrong direction and another article by the NSW Health Organization states that during a four-second microsleep, a car traveling at 100 km/h will travel 111 meters while completely out of the driver’s control."
      ]
    },
    {
      "cell_type": "markdown",
      "metadata": {},
      "source": [
        "## Data Understanding\n",
        "The data is from [Kaggle](<https://www.kaggle.com/datasets/prasadvpatil/mrl-dataset>) it was created with the help of a larger-scale dataset of human eyes from Media Research Lab.\n",
        "\n",
        "The dataset contains images of the eye state whether open or closed. Of the 4000 images, 2000 are open eyes, and 2000 are closed eyes some with glasses some without. The images have a bit depth of 8. The dataset contains images with high and low resolution since they were captured by different devices under different lighting conditions."
      ]
    },
    {
      "cell_type": "markdown",
      "metadata": {},
      "source": [
        "### Loading Libraries"
      ]
    },
    {
      "cell_type": "code",
      "execution_count": null,
      "metadata": {
        "id": "EWk6HpRvQLC6"
      },
      "outputs": [],
      "source": [
        "\n",
        "import os\n",
        "\n",
        "import numpy as np\n",
        "import pandas as pd \n",
        "\n",
        "import matplotlib.pyplot as plt \n",
        "\n",
        "import tensorflow as tf\n",
        "from tensorflow import keras\n",
        "from keras.applications.vgg19 import VGG19\n",
        "\n",
        "from sklearn.model_selection import train_test_split, GridSearchCV\n",
        "from tensorflow.keras.wrappers.scikit_learn import KerasClassifier\n",
        "from tensorflow.keras.models import Sequential\n",
        "from tensorflow.keras.layers import Dense, Flatten, Conv2D, MaxPooling2D, Dropout\n",
        "from tensorflow.keras import layers\n",
        "\n"
      ]
    },
    {
      "cell_type": "markdown",
      "metadata": {},
      "source": [
        "### Loading Data"
      ]
    },
    {
      "cell_type": "code",
      "execution_count": null,
      "metadata": {},
      "outputs": [],
      "source": [
        "#Connecting colab to gooogle drive\n",
        "from google.colab import drive\n",
        "drive.mount('/content/drive')"
      ]
    },
    {
      "cell_type": "code",
      "execution_count": null,
      "metadata": {
        "id": "uC8NCSujQLC_"
      },
      "outputs": [],
      "source": [
        "#Loading images from the folders and labelling them\n",
        "def load_images_from_folder(folder,eyes):\n",
        "    images=[]\n",
        "    for filename in os.listdir(folder):\n",
        "        img=cv2.imread(os.path.join(folder,filename))\n",
        "        img=cv2.resize(img,(80,80))\n",
        "        images.append([img,eyes])\n",
        "    return images"
      ]
    },
    {
      "cell_type": "code",
      "execution_count": null,
      "metadata": {
        "id": "Xdj_Wv74QLDA"
      },
      "outputs": [],
      "source": [
        "\n",
        "folder=\"../Driver-Drowsiness-Detection-In-Cars/train/Open_Eyes/\"\n",
        "open_eyes=load_images_from_folder(folder,0)\n",
        "\n",
        "folder=\"../Driver-Drowsiness-Detection-In-Cars/train/Closed_Eyes/\"\n",
        "closed_eyes=load_images_from_folder(folder,1)\n"
      ]
    },
    {
      "cell_type": "code",
      "execution_count": null,
      "metadata": {
        "colab": {
          "base_uri": "https://localhost:8080/"
        },
        "id": "ie2W2xu2QLDB",
        "outputId": "dee3ade9-e540-4b1e-9994-70d87b5a30e8"
      },
      "outputs": [
        {
          "name": "stdout",
          "output_type": "stream",
          "text": [
            "2000\n",
            "2000\n"
          ]
        }
      ],
      "source": [
        "#Number of Images\n",
        "#\n",
        "print(len(open_eyes))\n",
        "print(len(closed_eyes))"
      ]
    },
    {
      "cell_type": "markdown",
      "metadata": {},
      "source": [
        "### Previewing Data"
      ]
    },
    {
      "cell_type": "code",
      "execution_count": null,
      "metadata": {
        "colab": {
          "base_uri": "https://localhost:8080/",
          "height": 97
        },
        "id": "m6bp0M9bQLDD",
        "outputId": "aacbeb35-61c9-4702-a4c8-b7df3a053173"
      },
      "outputs": [
        {
          "data": {
            "image/png": "[encoded data removed]",
            "text/plain": [
              "<PIL.Image.Image image mode=RGB size=80x80 at 0x1FD6786A6D0>"
            ]
          },
          "execution_count": 6,
          "metadata": {},
          "output_type": "execute_result"
        }
      ],
      "source": [
        "#Displaying image to confirm that they have been loaded \n",
        "from PIL import Image as im\n",
        "data=im.fromarray(open_eyes[0][0])\n",
        "data"
      ]
    },
    {
      "cell_type": "code",
      "execution_count": null,
      "metadata": {
        "id": "hImdKBX8QLDE"
      },
      "outputs": [],
      "source": [
        "#Combining the open and closed eye data \n",
        "eyes=open_eyes+closed_eyes"
      ]
    },
    {
      "cell_type": "markdown",
      "metadata": {},
      "source": [
        "### Reshaping, Normalization and Splitting"
      ]
    },
    {
      "cell_type": "code",
      "execution_count": null,
      "metadata": {
        "id": "9RPxlJ7iQLDE"
      },
      "outputs": [],
      "source": [
        "#Setting up images with X being images and y being labels\n",
        "X=[]\n",
        "y=[]\n",
        "\n",
        "for features, label in eyes:\n",
        "    X.append(features)\n",
        "    y.append(label)\n",
        "\n"
      ]
    },
    {
      "cell_type": "code",
      "execution_count": null,
      "metadata": {
        "id": "Ix16sKZMQLDF"
      },
      "outputs": [],
      "source": [
        "#Converting image to array for modelling and scaling by dividing by 255\n",
        "X=np.array(X).reshape(-1,80,80,3)\n",
        "y=np.array(y)\n",
        "X=X/255.0"
      ]
    },
    {
      "cell_type": "code",
      "execution_count": null,
      "metadata": {
        "id": "kgh9SapZQLDF"
      },
      "outputs": [],
      "source": [
        "# Splitting the data \n",
        "\n",
        "X_train,X_test,y_train,y_test=train_test_split(X,y,random_state=23 )\n"
      ]
    },
    {
      "cell_type": "code",
      "execution_count": null,
      "metadata": {
        "colab": {
          "base_uri": "https://localhost:8080/",
          "height": 268
        },
        "id": "m5VlFontQLDG",
        "outputId": "f89a7dba-1829-43d8-c242-0df670f0bd7e"
      },
      "outputs": [
        {
          "data": {
            "image/png": "[encoded data removed]",
            "text/plain": [
              "<Figure size 432x288 with 1 Axes>"
            ]
          },
          "metadata": {
            "needs_background": "light"
          },
          "output_type": "display_data"
        }
      ],
      "source": [
        "#confirming that split ran okay\n",
        "\n",
        "plt.figure()\n",
        "plt.imshow(X_train[10])\n",
        "plt.show()"
      ]
    },
    {
      "cell_type": "code",
      "execution_count": null,
      "metadata": {
        "id": "WHK7KS7EQLDq"
      },
      "outputs": [],
      "source": [
        "#class names for images shown below \n",
        "\n",
        "class_names=['open','close']"
      ]
    },
    {
      "cell_type": "code",
      "execution_count": null,
      "metadata": {
        "colab": {
          "base_uri": "https://localhost:8080/",
          "height": 251
        },
        "id": "2V_4OMskQLDr",
        "outputId": "d1dd64cd-9a47-419c-ddbc-efa2cb38b1e1"
      },
      "outputs": [
        {
          "data": {
            "image/png": "[encoded data removed]",
            "text/plain": [
              "<Figure size 720x720 with 10 Axes>"
            ]
          },
          "metadata": {},
          "output_type": "display_data"
        }
      ],
      "source": [
        "#producing images of training set with corresponding label\n",
        "plt.figure(figsize=(10,10))\n",
        "for i in range(10):\n",
        "    plt.subplot(5,5,i+1)\n",
        "    plt.xticks([])\n",
        "    plt.yticks([])\n",
        "    plt.imshow(X_train[i], cmap=plt.cm.binary)\n",
        "    plt.xlabel(class_names[y_train[i]],)"
      ]
    },
    {
      "cell_type": "code",
      "execution_count": null,
      "metadata": {
        "id": "8PokRSYjQLDr"
      },
      "outputs": [],
      "source": [
        "#Reshping imags to 80*80*3 just incase \n",
        "X_train=X_train.reshape(X_train.shape[0], 80,80,3)\n",
        "X_test=X_test.reshape(X_test.shape[0], 80,80,3)"
      ]
    },
    {
      "cell_type": "markdown",
      "metadata": {},
      "source": [
        "# Modelling"
      ]
    },
    {
      "cell_type": "code",
      "execution_count": null,
      "metadata": {
        "id": "5r6CbwO-QLDs"
      },
      "outputs": [],
      "source": [
        "#creating a function that returns a Keras model\n",
        "def deep_learning_model(dense_neurons1=128,dense_neurons2=128,dense_neurons3=128,layout='',filters=32,dropout=None,pooling=None):\n",
        "  model=Sequential()\n",
        "  if layout== '5x5':\n",
        "    model.add(Conv2D(filters=filters, kernel_size=(5,5),activation='relu',input_shape=(80,80,3)))\n",
        "\n",
        "  if layout=='3x3'or layout== '2*3x3':\n",
        "    model.add(Conv2D(filters=filters,kernel_size=(3,3),activation='relu',input_shape=(80,80,3)))\n",
        "\n",
        "#adding pooling for convlutional layers\n",
        "  if pooling!=None:\n",
        "    model.add(MaxPooling2D(pool_size=(2,2)))\n",
        "\n",
        "  if layout=='2*3x3':\n",
        "    #second layer\n",
        "      model.add(Conv2D(filters=filters,kernel_size=(3,3),activation='relu',input_shape=(80,80,3)))\n",
        "#adding pooling on 2*3x3\n",
        "  if pooling !=None and layout =='2*3x3':\n",
        "    model.add(MaxPooling2D(pool_size=(2,2)))\n",
        "\n",
        "#flatten model for dense layers\n",
        "  model.add(Flatten())\n",
        "  model.add(Dense(dense_neurons1,activation='relu'))\n",
        "  if dropout!=None:\n",
        "    model.add(Dropout(dropout))\n",
        "  model.add(Dense(dense_neurons2,activation='relu'))\n",
        "  if dropout!=None:\n",
        "    model.add(Dropout(dropout))\n",
        "  model.add(Dense(dense_neurons3,activation='relu'))\n",
        "  if dropout!=None:\n",
        "    model.add(Dropout(dropout))\n",
        "\n",
        "#adding output layer\n",
        "\n",
        "  model.add(Dense(1,activation='sigmoid'))\n",
        "\n",
        "  #compiling using binary cross entropy and using AUC as metric \n",
        "  model.compile(loss='binary_crossentropy', optimizer='adam',metrics=[tf.keras.metrics.AUC(curve='PR')])\n",
        "\n",
        "  return model\n",
        "\n",
        "\n",
        "\n",
        "\n",
        "\n",
        "\n",
        "\n",
        "    \n"
      ]
    },
    {
      "cell_type": "code",
      "execution_count": null,
      "metadata": {
        "id": "4qzzlFvAQZ0R"
      },
      "outputs": [],
      "source": [
        "#Defining an earlystop callback\n",
        "early_stop=tf.keras.callbacks.EarlyStopping(patience=5, min_delta=.05)"
      ]
    },
    {
      "cell_type": "code",
      "execution_count": null,
      "metadata": {
        "id": "3WD6IGSGANsy"
      },
      "outputs": [],
      "source": [
        "#first grid search parameters\n",
        "params_deep={\n",
        "    \"layout\":['3x3','5x5','2*3x3'],\n",
        "    \"dense_neurons1\":[64,128],\n",
        "    'filters':[8,18,32],\n",
        "    \"dropout\":[0.1,0.5,],\n",
        "    \"pooling\":[None,1],\n",
        "    \"epochs\":[10]\n",
        "\n",
        "}"
      ]
    },
    {
      "cell_type": "code",
      "execution_count": null,
      "metadata": {
        "colab": {
          "base_uri": "https://localhost:8080/"
        },
        "id": "kW2FkD-LB7gP",
        "outputId": "4ab51c84-a650-4200-ba2f-1680bdd18a8d"
      },
      "outputs": [],
      "source": [
        "nn_deep=KerasClassifier(build_fn=deep_learning_model, batch_size=200)\n",
        "gs_deep=GridSearchCV(estimator=nn_deep,param_grid=params_deep,cv=3,scoring='average_precision')\n",
        "#gs_deep.fit(X_train, y_train,validation_data=(X_test,y_test),callbacks=[early_stop])"
      ]
    },
    {
      "cell_type": "code",
      "execution_count": null,
      "metadata": {
        "colab": {
          "base_uri": "https://localhost:8080/"
        },
        "id": "EL_bd8taQKtW",
        "outputId": "85901498-534f-4bc4-9142-27023ef950ee"
      },
      "outputs": [],
      "source": [
        "\n",
        "\n",
        "#Summary of thescores\n",
        "\n",
        "#means = gs_deep.cv_results_['mean_test_score']\n",
        "#stds = gs_deep.cv_results_['std_test_score']\n",
        "#params = gs_deep.cv_results_['params']\n",
        "#for mean, stdev, param in zip(means, stds, params):\n",
        "    #print(f' mean={mean:.4}, std={stdev:.4} using {param}')\n"
      ]
    },
    {
      "cell_type": "code",
      "execution_count": null,
      "metadata": {
        "colab": {
          "base_uri": "https://localhost:8080/"
        },
        "id": "Wuji_I-2kLW8",
        "outputId": "bc5e30ef-c6d6-4c91-ee04-6b3a5666defe"
      },
      "outputs": [],
      "source": [
        "#print(f'Best Accuracy for {gs_deep.best_score_} using {gs_deep.best_params_}')\n"
      ]
    },
    {
      "cell_type": "markdown",
      "metadata": {
        "id": "gYpVErNMmQbq"
      },
      "source": [
        "From this grid search we find the best layout to be 2*3x3 with 32 filters. This means we will have two convolution layers with a kernel size of (3,3) representing the height and width of the filter. We will perform other iterations on the same layout but with three layers of dense neurons and different hyperparameters."
      ]
    },
    {
      "cell_type": "code",
      "execution_count": null,
      "metadata": {
        "id": "COngo1TgkndG"
      },
      "outputs": [],
      "source": [
        "#Second grid search parameters\n",
        "params_deep_two={\n",
        "    \"layout\":['2*3x3'],\n",
        "    \"dense_neurons1\":[128,256],\n",
        "    \"dense_neurons2\":[256,512],\n",
        "    \"dense_neurons3\":[256,512],\n",
        "    'filters':[32],\n",
        "    \"dropout\":[0,0.1,0.3,0.5,],\n",
        "    \"pooling\":[None,1],\n",
        "    \"epochs\":[20]\n",
        "\n",
        "}"
      ]
    },
    {
      "cell_type": "code",
      "execution_count": null,
      "metadata": {
        "colab": {
          "base_uri": "https://localhost:8080/"
        },
        "id": "ZmfI_zTQn4N9",
        "outputId": "885d36ca-7b75-49ac-efae-fdfbc659da49"
      },
      "outputs": [],
      "source": [
        "nn_deep=KerasClassifier(build_fn=deep_learning_model, batch_size=200)\n",
        "gs_deep=GridSearchCV(estimator=nn_deep,param_grid=params_deep_two,cv=3,scoring='average_precision')\n",
        "#gs_deep.fit(X_train, y_train,validation_data=(X_test,y_test),callbacks=[early_stop])"
      ]
    },
    {
      "cell_type": "code",
      "execution_count": null,
      "metadata": {
        "colab": {
          "base_uri": "https://localhost:8080/"
        },
        "id": "4oB8wbh-w3mZ",
        "outputId": "1b70a660-2374-4f1d-f738-fbbe128e0aa8"
      },
      "outputs": [],
      "source": [
        "#Summary of the results\n",
        "#means = gs_deep.cv_results_['mean_test_score']\n",
        "#stds = gs_deep.cv_results_['std_test_score']\n",
        "#params = gs_deep.cv_results_['params']\n",
        "#for mean, stdev, param in zip(means, stds, params):\n",
        "    #print(f' mean={mean:.4}, std={stdev:.4} using {param}')"
      ]
    },
    {
      "cell_type": "code",
      "execution_count": null,
      "metadata": {
        "colab": {
          "base_uri": "https://localhost:8080/"
        },
        "id": "EdEftNugxYJ8",
        "outputId": "6ad002f8-1604-4181-e4b9-f627e07d7441"
      },
      "outputs": [
        {
          "name": "stdout",
          "output_type": "stream",
          "text": [
            "Best Accuracy for 0.9998397543919476 using {'dense_neurons1': 256, 'dense_neurons2': 512, 'dense_neurons3': 512, 'dropout': 0.3, 'epochs': 20, 'filters': 32, 'layout': '2*3x3', 'pooling': 1}\n"
          ]
        }
      ],
      "source": [
        "#print(f'Best Accuracy for {gs_deep.best_score_} using {gs_deep.best_params_}')"
      ]
    },
    {
      "cell_type": "markdown",
      "metadata": {},
      "source": [
        "## Grid search Analysis"
      ]
    },
    {
      "cell_type": "markdown",
      "metadata": {
        "id": "xA-RRlX-pJEi"
      },
      "source": [
        "Given that we have an accuracy of 0.998397543919476, which is better than the neural network architecture with one dense layer at 0.999472216392248  , we can take these as the  parameters to build our final model."
      ]
    },
    {
      "cell_type": "markdown",
      "metadata": {
        "id": "3ANZ0RLMyMvD"
      },
      "source": [
        "Final model for Export\n",
        "\n",
        "AUC score of model produced by grid search: 0.9998397543919476\n",
        "\n",
        "Parameters of best model produced by grid search:\n",
        "\n",
        "- dense_neurons1: 256,\n",
        "- dense_neurons2: 512,\n",
        "- dense_neurons3: 512, \n",
        "- dropout: 0.3, \n",
        "- epochs: 20, \n",
        "- filters: 32, \n",
        "- layout: '2*3x3', \n",
        "- pooling: 1\n",
        "\n",
        "\n"
      ]
    },
    {
      "cell_type": "code",
      "execution_count": null,
      "metadata": {
        "colab": {
          "base_uri": "https://localhost:8080/"
        },
        "id": "Mr_pRWWZyBWh",
        "outputId": "a439cff2-fd16-4064-da87-334ad6e5824f"
      },
      "outputs": [
        {
          "name": "stdout",
          "output_type": "stream",
          "text": [
            "Epoch 1/20\n",
            "15/15 [==============================] - 41s 3s/step - loss: 0.5883 - auc: 0.7435\n",
            "Epoch 2/20\n",
            "15/15 [==============================] - 34s 2s/step - loss: 0.3197 - auc: 0.9310\n",
            "Epoch 3/20\n",
            "15/15 [==============================] - 34s 2s/step - loss: 0.1396 - auc: 0.9850\n",
            "Epoch 4/20\n",
            "15/15 [==============================] - 35s 2s/step - loss: 0.0933 - auc: 0.9918\n",
            "Epoch 5/20\n",
            "15/15 [==============================] - 44s 3s/step - loss: 0.0557 - auc: 0.9956\n",
            "Epoch 6/20\n",
            "15/15 [==============================] - 35s 2s/step - loss: 0.0338 - auc: 0.9982\n",
            "Epoch 7/20\n",
            "15/15 [==============================] - 32s 2s/step - loss: 0.0235 - auc: 0.9994\n",
            "Epoch 8/20\n",
            "15/15 [==============================] - 33s 2s/step - loss: 0.0239 - auc: 0.9988\n",
            "Epoch 9/20\n",
            "15/15 [==============================] - 33s 2s/step - loss: 0.0192 - auc: 0.9996\n",
            "Epoch 10/20\n",
            "15/15 [==============================] - 32s 2s/step - loss: 0.0166 - auc: 0.9997\n",
            "Epoch 11/20\n",
            "15/15 [==============================] - 31s 2s/step - loss: 0.0097 - auc: 0.9999\n",
            "Epoch 12/20\n",
            "15/15 [==============================] - 31s 2s/step - loss: 0.0337 - auc: 0.9985\n",
            "Epoch 13/20\n",
            "15/15 [==============================] - 34s 2s/step - loss: 0.0138 - auc: 0.9999\n",
            "Epoch 14/20\n",
            "15/15 [==============================] - 33s 2s/step - loss: 0.0086 - auc: 0.9996\n",
            "Epoch 15/20\n",
            "15/15 [==============================] - 31s 2s/step - loss: 0.0068 - auc: 1.0000\n",
            "Epoch 16/20\n",
            "15/15 [==============================] - 31s 2s/step - loss: 0.0056 - auc: 1.0000\n",
            "Epoch 17/20\n",
            "15/15 [==============================] - 30s 2s/step - loss: 0.0071 - auc: 1.0000\n",
            "Epoch 18/20\n",
            "15/15 [==============================] - 31s 2s/step - loss: 0.0051 - auc: 1.0000\n",
            "Epoch 19/20\n",
            "15/15 [==============================] - 30s 2s/step - loss: 0.0042 - auc: 1.0000\n",
            "Epoch 20/20\n",
            "15/15 [==============================] - 31s 2s/step - loss: 0.0079 - auc: 1.0000\n"
          ]
        },
        {
          "data": {
            "text/plain": [
              "<tensorflow.python.keras.callbacks.History at 0x24c28fa4820>"
            ]
          },
          "execution_count": 9,
          "metadata": {},
          "output_type": "execute_result"
        }
      ],
      "source": [
        "#instantiate the model\n",
        "model=Sequential()\n",
        "\n",
        "#adding first convolution layer\n",
        "model.add(Conv2D(filters=32,kernel_size=(3,3),activation='relu'))\n",
        "#maxpooling after convolution layer\n",
        "model.add(MaxPooling2D(pool_size=(2,2)))\n",
        "\n",
        "#adding another convolution layer\n",
        "model.add(Conv2D(filters=32,kernel_size=(3,3),activation='relu'))\n",
        "#maxpooling after convolution layer\n",
        "model.add(MaxPooling2D(pool_size=(2,2)))\n",
        "\n",
        "model.add(Flatten())\n",
        "\n",
        "#adding first dense layer with 256 nodes\n",
        "model.add(Dense(256, activation='relu'))\n",
        "#adding a dropout layer to avoid overfitting\n",
        "model.add(Dropout(0.3))\n",
        "\n",
        "#adding second dense layer with 512 nodes\n",
        "model.add(Dense(512, activation='relu'))\n",
        "#adding a dropout layer to avoid overfitting\n",
        "model.add(Dropout(0.3))\n",
        "\n",
        "#adding third dense layer with 512 nodes\n",
        "model.add(Dense(512, activation='relu'))\n",
        "#adding a dropout layer to avoid overfitting\n",
        "model.add(Dropout(0.3))\n",
        "\n",
        "#Output layer\n",
        "model.add(Dense(1, activation='sigmoid'))\n",
        "#compiling \n",
        "model.compile(loss='binary_crossentropy',optimizer='adam', metrics=[tf.keras.metrics.AUC(curve='PR')])\n",
        "\n",
        "#fitting on train data\n",
        "history=model.fit(X_train,y_train,batch_size=200, epochs=20)"
      ]
    },
    {
      "cell_type": "code",
      "execution_count": null,
      "metadata": {
        "colab": {
          "base_uri": "https://localhost:8080/"
        },
        "id": "1p6QK6C26jkD",
        "outputId": "07afd818-9da8-4822-8f96-57824fe2ede4"
      },
      "outputs": [
        {
          "name": "stdout",
          "output_type": "stream",
          "text": [
            "Model: \"sequential\"\n",
            "_________________________________________________________________\n",
            "Layer (type)                 Output Shape              Param #   \n",
            "=================================================================\n",
            "conv2d (Conv2D)              (200, 78, 78, 32)         896       \n",
            "_________________________________________________________________\n",
            "max_pooling2d (MaxPooling2D) (200, 39, 39, 32)         0         \n",
            "_________________________________________________________________\n",
            "conv2d_1 (Conv2D)            (200, 37, 37, 32)         9248      \n",
            "_________________________________________________________________\n",
            "max_pooling2d_1 (MaxPooling2 (200, 18, 18, 32)         0         \n",
            "_________________________________________________________________\n",
            "flatten (Flatten)            (200, 10368)              0         \n",
            "_________________________________________________________________\n",
            "dense (Dense)                (200, 256)                2654464   \n",
            "_________________________________________________________________\n",
            "dropout (Dropout)            (200, 256)                0         \n",
            "_________________________________________________________________\n",
            "dense_1 (Dense)              (200, 512)                131584    \n",
            "_________________________________________________________________\n",
            "dropout_1 (Dropout)          (200, 512)                0         \n",
            "_________________________________________________________________\n",
            "dense_2 (Dense)              (200, 512)                262656    \n",
            "_________________________________________________________________\n",
            "dropout_2 (Dropout)          (200, 512)                0         \n",
            "_________________________________________________________________\n",
            "dense_3 (Dense)              (200, 1)                  513       \n",
            "=================================================================\n",
            "Total params: 3,059,361\n",
            "Trainable params: 3,059,361\n",
            "Non-trainable params: 0\n",
            "_________________________________________________________________\n"
          ]
        }
      ],
      "source": [
        "model.summary()"
      ]
    },
    {
      "cell_type": "code",
      "execution_count": null,
      "metadata": {
        "colab": {
          "base_uri": "https://localhost:8080/"
        },
        "id": "cwKZpPgG6onn",
        "outputId": "35be77f8-4f3c-4ba8-9226-ffd73eadc611"
      },
      "outputs": [
        {
          "name": "stdout",
          "output_type": "stream",
          "text": [
            "32/32 [==============================] - 3s 78ms/step - loss: 0.0175 - auc: 0.9987\n",
            "loss: 0.017543839290738106\n",
            "auc: 0.9987093806266785\n"
          ]
        }
      ],
      "source": [
        "# function to evaluate model\n",
        "def evaluate(model):\n",
        "  results_train = model.evaluate(X_train, y_train)\n",
        "  print(f'Training Loss: {results_train[0]} \\nTraining auc score: {results_train[1]}')\n",
        "\n",
        "  print('----------')\n",
        "\n",
        "  results_test =model.evaluate(X_test, y_test)\n",
        "  print(f'Test Loss: {results_test[0]} \\nTest auc score: {results_test[1]}')\n",
        "\n",
        "\n",
        "\n",
        "\n",
        "evaluate(model)"
      ]
    },
    {
      "cell_type": "code",
      "execution_count": null,
      "metadata": {},
      "outputs": [],
      "source": [
        "# Plot the loss and auc curves for training and validation \n",
        "def evaluation_visual(model,auc,val_auc):\n",
        "  fig, ax = plt.subplots(2,1,figsize=(10,8))\n",
        "  ax[0].plot(model.history['loss'], color='b', label=\"Training loss\")\n",
        "  ax[0].plot(model.history['val_loss'], color='r', label=\"validation loss\",axes =ax[0])\n",
        "  legend = ax[0].legend(loc='best', shadow=True)\n",
        "  plt.xlabel('Epoch')\n",
        "  plt.ylabel('Metric')\n",
        "\n",
        " \n",
        "  ax[1].plot(model.history[auc], color='b', label=\"Training auc score\")\n",
        "  ax[1].plot(model.history[val_auc], color='r',label=\"Validation auc score\")\n",
        "  legend = ax[1].legend(loc='best', shadow=True)\n",
        "  plt.xlabel('Epoch')\n",
        "  plt.ylabel('Metric')\n"
      ]
    },
    {
      "cell_type": "code",
      "execution_count": null,
      "metadata": {},
      "outputs": [],
      "source": [
        "\n",
        "evaluation_visual(history,'auc','val_auc')"
      ]
    },
    {
      "cell_type": "code",
      "execution_count": null,
      "metadata": {
        "colab": {
          "base_uri": "https://localhost:8080/"
        },
        "id": "qIUfxnxV77Xo",
        "outputId": "a5295f05-360a-4da2-98c2-d249a43d3267"
      },
      "outputs": [
        {
          "data": {
            "text/plain": [
              "array([[2.67322141e-22],\n",
              "       [9.99999583e-01],\n",
              "       [1.31382267e-05],\n",
              "       [1.00000000e+00],\n",
              "       [1.00000000e+00],\n",
              "       [8.07291016e-08],\n",
              "       [9.99743342e-01],\n",
              "       [2.25194458e-06],\n",
              "       [1.90585852e-04],\n",
              "       [4.11496649e-06],\n",
              "       [9.99998748e-01],\n",
              "       [9.99995947e-01],\n",
              "       [1.04838671e-06],\n",
              "       [2.56316995e-10],\n",
              "       [1.30896142e-05],\n",
              "       [9.99997616e-01],\n",
              "       [1.94028686e-08],\n",
              "       [9.99994993e-01],\n",
              "       [4.28492825e-17],\n",
              "       [9.99999642e-01],\n",
              "       [9.99991298e-01],\n",
              "       [1.00000000e+00],\n",
              "       [2.75870504e-18],\n",
              "       [7.89403915e-04],\n",
              "       [1.00000000e+00],\n",
              "       [1.92257936e-22],\n",
              "       [4.59468094e-21],\n",
              "       [8.33326849e-05],\n",
              "       [9.99938130e-01],\n",
              "       [1.00000000e+00],\n",
              "       [2.06547309e-18],\n",
              "       [9.99999762e-01],\n",
              "       [7.75534220e-11],\n",
              "       [1.00000000e+00],\n",
              "       [1.00000000e+00],\n",
              "       [4.24604514e-05],\n",
              "       [4.84488716e-09],\n",
              "       [1.77055597e-04],\n",
              "       [9.99979496e-01],\n",
              "       [9.99751747e-01],\n",
              "       [4.18784748e-06],\n",
              "       [6.46838180e-06],\n",
              "       [1.49030946e-21],\n",
              "       [1.00000000e+00],\n",
              "       [5.64164562e-21],\n",
              "       [2.10025149e-07],\n",
              "       [2.47227854e-05],\n",
              "       [9.99890685e-01],\n",
              "       [2.49610457e-05],\n",
              "       [2.62838837e-20],\n",
              "       [1.13299951e-11],\n",
              "       [4.73621840e-05],\n",
              "       [2.41614634e-05],\n",
              "       [9.98917103e-01],\n",
              "       [1.54463269e-05],\n",
              "       [9.99997795e-01],\n",
              "       [6.85003882e-17],\n",
              "       [3.74631753e-07],\n",
              "       [9.99999642e-01],\n",
              "       [1.00000000e+00],\n",
              "       [9.99086022e-01],\n",
              "       [2.87492519e-22],\n",
              "       [1.00000000e+00],\n",
              "       [9.99993026e-01],\n",
              "       [9.99960065e-01],\n",
              "       [3.22311712e-06],\n",
              "       [1.00000000e+00],\n",
              "       [1.80053767e-11],\n",
              "       [1.00000000e+00],\n",
              "       [9.99979973e-01],\n",
              "       [1.00000000e+00],\n",
              "       [9.99949217e-01],\n",
              "       [1.42765045e-03],\n",
              "       [2.06435836e-22],\n",
              "       [1.00000000e+00],\n",
              "       [1.96368734e-22],\n",
              "       [9.99998450e-01],\n",
              "       [9.66932654e-01],\n",
              "       [9.99881983e-01],\n",
              "       [1.00000000e+00],\n",
              "       [1.67300271e-07],\n",
              "       [9.99999046e-01],\n",
              "       [7.06081504e-09],\n",
              "       [1.79080089e-05],\n",
              "       [4.98957478e-20],\n",
              "       [6.06195927e-01],\n",
              "       [1.00000000e+00],\n",
              "       [1.41480386e-05],\n",
              "       [1.00000000e+00],\n",
              "       [5.45219109e-07],\n",
              "       [1.26648714e-17],\n",
              "       [4.73011343e-19],\n",
              "       [1.35838985e-04],\n",
              "       [5.88793105e-20],\n",
              "       [1.00000000e+00],\n",
              "       [7.47421396e-12],\n",
              "       [1.52474923e-21],\n",
              "       [6.15870005e-18],\n",
              "       [9.99958515e-01],\n",
              "       [1.01426309e-07],\n",
              "       [2.29881867e-19],\n",
              "       [2.54483190e-08],\n",
              "       [1.00000000e+00],\n",
              "       [1.33562273e-16],\n",
              "       [9.99969125e-01],\n",
              "       [2.54119550e-05],\n",
              "       [1.00000000e+00],\n",
              "       [2.59051041e-22],\n",
              "       [7.19683726e-07],\n",
              "       [9.99999404e-01],\n",
              "       [5.24490588e-07],\n",
              "       [9.97964501e-01],\n",
              "       [5.21383114e-09],\n",
              "       [7.41796066e-06],\n",
              "       [2.05157089e-21],\n",
              "       [3.97445410e-06],\n",
              "       [9.99979079e-01],\n",
              "       [6.00866542e-07],\n",
              "       [5.65878909e-05],\n",
              "       [9.99999166e-01],\n",
              "       [1.90035456e-22],\n",
              "       [9.99992013e-01],\n",
              "       [7.15970927e-08],\n",
              "       [9.79759789e-05],\n",
              "       [6.37560674e-07],\n",
              "       [1.00000000e+00],\n",
              "       [1.52195395e-10],\n",
              "       [9.99720812e-01],\n",
              "       [4.58368231e-06],\n",
              "       [2.35352877e-21],\n",
              "       [4.97952060e-05],\n",
              "       [1.73018202e-20],\n",
              "       [2.58640278e-22],\n",
              "       [9.99988794e-01],\n",
              "       [9.99988198e-01],\n",
              "       [1.66799699e-11],\n",
              "       [9.99996185e-01],\n",
              "       [1.00000000e+00],\n",
              "       [1.00000000e+00],\n",
              "       [1.00000000e+00],\n",
              "       [9.99995947e-01],\n",
              "       [9.17755927e-10],\n",
              "       [1.85118315e-05],\n",
              "       [6.63155197e-06],\n",
              "       [2.19116947e-11],\n",
              "       [1.00000000e+00],\n",
              "       [7.98451434e-21],\n",
              "       [1.00000000e+00],\n",
              "       [1.00000000e+00],\n",
              "       [7.73601409e-12],\n",
              "       [9.99940395e-01],\n",
              "       [2.29597059e-19],\n",
              "       [9.99956846e-01],\n",
              "       [9.99991775e-01],\n",
              "       [1.71738402e-22],\n",
              "       [9.99999762e-01],\n",
              "       [1.89376933e-05],\n",
              "       [1.65694765e-17],\n",
              "       [1.82373070e-21],\n",
              "       [1.17736272e-05],\n",
              "       [9.99925494e-01],\n",
              "       [9.99996543e-01],\n",
              "       [1.52451098e-02],\n",
              "       [9.99838471e-01],\n",
              "       [1.00000000e+00],\n",
              "       [9.99997020e-01],\n",
              "       [9.99827385e-01],\n",
              "       [1.00000000e+00],\n",
              "       [9.99987006e-01],\n",
              "       [1.66987866e-05],\n",
              "       [9.99997139e-01],\n",
              "       [1.00000000e+00],\n",
              "       [7.99762677e-20],\n",
              "       [9.99999225e-01],\n",
              "       [1.00000000e+00],\n",
              "       [3.84186898e-22],\n",
              "       [1.00000000e+00],\n",
              "       [1.48543884e-22],\n",
              "       [1.00000000e+00],\n",
              "       [1.00000000e+00],\n",
              "       [9.99982417e-01],\n",
              "       [7.46422918e-19],\n",
              "       [9.99994814e-01],\n",
              "       [1.10462084e-12],\n",
              "       [4.08801043e-07],\n",
              "       [9.99993801e-01],\n",
              "       [4.62339012e-05],\n",
              "       [9.99808133e-01],\n",
              "       [1.00000000e+00],\n",
              "       [1.13227326e-19],\n",
              "       [1.00000000e+00],\n",
              "       [2.20474867e-05],\n",
              "       [3.45090712e-09],\n",
              "       [4.44341185e-06],\n",
              "       [9.99989569e-01],\n",
              "       [3.16361558e-20],\n",
              "       [9.97916222e-01],\n",
              "       [8.07490483e-21],\n",
              "       [3.32366872e-05],\n",
              "       [9.99992967e-01],\n",
              "       [3.29415570e-06],\n",
              "       [8.92956450e-05],\n",
              "       [1.00000000e+00],\n",
              "       [3.86783618e-08],\n",
              "       [1.00000000e+00],\n",
              "       [2.99974343e-21],\n",
              "       [1.01280741e-22],\n",
              "       [9.99997020e-01],\n",
              "       [9.99999404e-01],\n",
              "       [1.00000000e+00],\n",
              "       [9.99999702e-01],\n",
              "       [9.81323867e-17],\n",
              "       [2.93635284e-21],\n",
              "       [3.79973452e-21],\n",
              "       [4.66709409e-08],\n",
              "       [9.99999285e-01],\n",
              "       [9.99988079e-01],\n",
              "       [9.99972582e-01],\n",
              "       [9.99994159e-01],\n",
              "       [3.48649155e-05],\n",
              "       [9.99095500e-01],\n",
              "       [3.63934269e-08],\n",
              "       [9.99985576e-01],\n",
              "       [9.99396801e-01],\n",
              "       [9.99999523e-01],\n",
              "       [2.85514333e-22],\n",
              "       [2.73242813e-06],\n",
              "       [9.98962283e-01],\n",
              "       [2.70018900e-05],\n",
              "       [1.54335680e-06],\n",
              "       [1.32090960e-07],\n",
              "       [1.17703550e-21],\n",
              "       [9.99969959e-01],\n",
              "       [1.00000000e+00],\n",
              "       [1.00000000e+00],\n",
              "       [9.99999762e-01],\n",
              "       [1.46677878e-10],\n",
              "       [3.36691301e-05],\n",
              "       [6.47726141e-22],\n",
              "       [4.29077097e-23],\n",
              "       [1.45781618e-08],\n",
              "       [9.99936223e-01],\n",
              "       [2.20693437e-05],\n",
              "       [9.99979973e-01],\n",
              "       [9.99985218e-01],\n",
              "       [7.59323174e-20],\n",
              "       [6.75339907e-05],\n",
              "       [5.79868185e-07],\n",
              "       [1.00000000e+00],\n",
              "       [1.96682204e-21],\n",
              "       [1.00000000e+00],\n",
              "       [9.99959230e-01],\n",
              "       [1.42819686e-19],\n",
              "       [6.83528706e-05],\n",
              "       [9.99975383e-01],\n",
              "       [1.00000000e+00],\n",
              "       [9.99999762e-01],\n",
              "       [9.99981642e-01],\n",
              "       [1.00000000e+00],\n",
              "       [2.36507467e-22],\n",
              "       [2.31417619e-12],\n",
              "       [4.26210084e-19],\n",
              "       [9.66978754e-12],\n",
              "       [2.47523928e-07],\n",
              "       [9.99998450e-01],\n",
              "       [9.99986172e-01],\n",
              "       [5.08934900e-05],\n",
              "       [2.41893530e-03],\n",
              "       [9.99997616e-01],\n",
              "       [1.00000000e+00],\n",
              "       [5.50020377e-06],\n",
              "       [1.00000000e+00],\n",
              "       [1.37333870e-07],\n",
              "       [2.11937916e-08],\n",
              "       [3.07220599e-20],\n",
              "       [1.83366632e-19],\n",
              "       [9.99985278e-01],\n",
              "       [9.99980807e-01],\n",
              "       [5.96652683e-08],\n",
              "       [1.00000000e+00],\n",
              "       [9.99999642e-01],\n",
              "       [1.39967728e-17],\n",
              "       [1.65101231e-11],\n",
              "       [9.99999166e-01],\n",
              "       [9.99997973e-01],\n",
              "       [4.33402542e-20],\n",
              "       [4.38556708e-06],\n",
              "       [9.99998331e-01],\n",
              "       [9.99998927e-01],\n",
              "       [5.39037002e-19],\n",
              "       [2.46159630e-06],\n",
              "       [9.98981714e-01],\n",
              "       [1.00000000e+00],\n",
              "       [6.16728931e-23],\n",
              "       [3.10488812e-09],\n",
              "       [2.12994814e-06],\n",
              "       [9.99986410e-01],\n",
              "       [1.00000000e+00],\n",
              "       [1.27473454e-09],\n",
              "       [2.73949093e-12],\n",
              "       [9.99998450e-01],\n",
              "       [1.44119142e-07],\n",
              "       [4.75688694e-07],\n",
              "       [9.99745607e-01],\n",
              "       [3.82378869e-19],\n",
              "       [1.74954798e-21],\n",
              "       [1.00000000e+00],\n",
              "       [4.44677717e-08],\n",
              "       [9.99999762e-01],\n",
              "       [9.99998808e-01],\n",
              "       [6.27839381e-06],\n",
              "       [3.26331767e-20],\n",
              "       [3.00645340e-08],\n",
              "       [9.99990225e-01],\n",
              "       [3.50808926e-19],\n",
              "       [9.99988794e-01],\n",
              "       [2.68592085e-19],\n",
              "       [2.17372187e-09],\n",
              "       [1.17392976e-18],\n",
              "       [3.07443179e-06],\n",
              "       [3.68738376e-21],\n",
              "       [1.40994787e-04],\n",
              "       [9.99967575e-01],\n",
              "       [1.52658316e-07],\n",
              "       [1.00000000e+00],\n",
              "       [1.00000000e+00],\n",
              "       [9.99972880e-01],\n",
              "       [9.52116174e-23],\n",
              "       [4.99124487e-22],\n",
              "       [1.87347434e-18],\n",
              "       [2.53103449e-09],\n",
              "       [3.08673257e-23],\n",
              "       [9.99701738e-01],\n",
              "       [9.99999702e-01],\n",
              "       [1.47991376e-21],\n",
              "       [9.99992430e-01],\n",
              "       [1.81632877e-05],\n",
              "       [9.99984145e-01],\n",
              "       [9.99963403e-01],\n",
              "       [9.99998271e-01],\n",
              "       [1.14527561e-18],\n",
              "       [1.60584223e-05],\n",
              "       [1.00000000e+00],\n",
              "       [1.00000000e+00],\n",
              "       [8.03483746e-21],\n",
              "       [9.99511480e-01],\n",
              "       [1.00000000e+00],\n",
              "       [9.99983072e-01],\n",
              "       [9.99952495e-01],\n",
              "       [9.99997258e-01],\n",
              "       [6.06212751e-08],\n",
              "       [1.00000000e+00],\n",
              "       [1.00000000e+00],\n",
              "       [7.78893864e-21],\n",
              "       [9.99999404e-01],\n",
              "       [5.89677691e-03],\n",
              "       [4.96036198e-11],\n",
              "       [1.79184713e-06],\n",
              "       [1.63955372e-09],\n",
              "       [2.71171375e-05],\n",
              "       [3.40590736e-06],\n",
              "       [1.00000000e+00],\n",
              "       [9.99997139e-01],\n",
              "       [9.99907732e-01],\n",
              "       [3.04978503e-21],\n",
              "       [4.12458076e-06],\n",
              "       [9.99825120e-01],\n",
              "       [9.99889016e-01],\n",
              "       [9.21244813e-20],\n",
              "       [1.00000000e+00],\n",
              "       [9.99675453e-01],\n",
              "       [1.00000000e+00],\n",
              "       [9.99903798e-01],\n",
              "       [1.57010959e-07],\n",
              "       [9.99581575e-01],\n",
              "       [3.09205518e-07],\n",
              "       [1.57103497e-11],\n",
              "       [9.99979138e-01],\n",
              "       [9.97834921e-01],\n",
              "       [1.00000000e+00],\n",
              "       [9.99998927e-01],\n",
              "       [9.98940587e-01],\n",
              "       [5.53447315e-08],\n",
              "       [9.99995351e-01],\n",
              "       [1.00000000e+00],\n",
              "       [4.99047155e-06],\n",
              "       [5.49210746e-11],\n",
              "       [9.99815464e-01],\n",
              "       [2.18904436e-10],\n",
              "       [1.20244276e-05],\n",
              "       [1.00000000e+00],\n",
              "       [1.00000000e+00],\n",
              "       [1.79916049e-06],\n",
              "       [1.00000000e+00],\n",
              "       [7.25555581e-19],\n",
              "       [1.41279761e-05],\n",
              "       [3.22970635e-20],\n",
              "       [1.00000000e+00],\n",
              "       [1.41875395e-19],\n",
              "       [9.99976516e-01],\n",
              "       [1.91745178e-15],\n",
              "       [2.31727026e-10],\n",
              "       [1.00000000e+00],\n",
              "       [9.99245882e-01],\n",
              "       [9.99981284e-01],\n",
              "       [1.05689658e-04],\n",
              "       [1.00000000e+00],\n",
              "       [9.99932289e-01],\n",
              "       [1.83220129e-06],\n",
              "       [2.27180914e-21],\n",
              "       [9.99995291e-01],\n",
              "       [9.99999762e-01],\n",
              "       [3.35323668e-16],\n",
              "       [1.48296356e-04],\n",
              "       [1.09062858e-05],\n",
              "       [3.45055696e-06],\n",
              "       [9.99999583e-01],\n",
              "       [1.00000000e+00],\n",
              "       [3.78715992e-03],\n",
              "       [1.47473450e-10],\n",
              "       [3.74417430e-09],\n",
              "       [2.17616734e-22],\n",
              "       [9.99999404e-01],\n",
              "       [9.99998569e-01],\n",
              "       [1.18854892e-04],\n",
              "       [3.97644984e-09],\n",
              "       [9.99999821e-01],\n",
              "       [9.99990821e-01],\n",
              "       [3.49321475e-18],\n",
              "       [9.99731779e-01],\n",
              "       [1.00000000e+00],\n",
              "       [6.53235111e-06],\n",
              "       [2.83352052e-21],\n",
              "       [9.99988198e-01],\n",
              "       [9.99974132e-01],\n",
              "       [9.99930143e-01],\n",
              "       [9.99968052e-01],\n",
              "       [2.64116061e-05],\n",
              "       [9.99998212e-01],\n",
              "       [5.37224113e-20],\n",
              "       [1.00000000e+00],\n",
              "       [1.00000000e+00],\n",
              "       [1.00000000e+00],\n",
              "       [9.99316573e-01],\n",
              "       [9.99979019e-01],\n",
              "       [2.90967927e-11],\n",
              "       [4.75649458e-08],\n",
              "       [9.99987125e-01],\n",
              "       [1.09745423e-18],\n",
              "       [6.91473484e-04],\n",
              "       [9.99967277e-01],\n",
              "       [3.71641561e-22],\n",
              "       [2.48987423e-21],\n",
              "       [1.22652131e-22],\n",
              "       [3.33117002e-22],\n",
              "       [1.00000000e+00],\n",
              "       [1.00000000e+00],\n",
              "       [8.57793808e-21],\n",
              "       [2.16901302e-04],\n",
              "       [9.98706341e-01],\n",
              "       [9.25600529e-04],\n",
              "       [1.00000000e+00],\n",
              "       [9.99992490e-01],\n",
              "       [9.99938488e-01],\n",
              "       [9.99982119e-01],\n",
              "       [9.99994397e-01],\n",
              "       [9.99998271e-01],\n",
              "       [4.39048833e-08],\n",
              "       [6.22160542e-07],\n",
              "       [2.02818301e-05],\n",
              "       [9.99998808e-01],\n",
              "       [5.94280427e-05],\n",
              "       [2.34812498e-04],\n",
              "       [2.05453812e-22],\n",
              "       [1.00000000e+00],\n",
              "       [9.99932647e-01],\n",
              "       [7.64587749e-05],\n",
              "       [1.18523788e-10],\n",
              "       [1.00000000e+00],\n",
              "       [1.42532117e-05],\n",
              "       [1.00000000e+00],\n",
              "       [2.53495909e-06],\n",
              "       [9.29970065e-06],\n",
              "       [8.43172714e-08],\n",
              "       [4.23044924e-08],\n",
              "       [1.00000000e+00],\n",
              "       [9.99996603e-01],\n",
              "       [9.99963582e-01],\n",
              "       [3.78153641e-06],\n",
              "       [9.71658171e-12],\n",
              "       [6.41966436e-18],\n",
              "       [9.99999642e-01],\n",
              "       [2.68009321e-22],\n",
              "       [9.99999762e-01],\n",
              "       [1.15616010e-21],\n",
              "       [9.99984145e-01],\n",
              "       [1.00000000e+00],\n",
              "       [2.93711892e-05],\n",
              "       [9.99942899e-01],\n",
              "       [1.00000000e+00],\n",
              "       [5.38269524e-06],\n",
              "       [1.00000000e+00],\n",
              "       [1.00000000e+00],\n",
              "       [1.00000000e+00],\n",
              "       [1.00000000e+00],\n",
              "       [1.00000000e+00],\n",
              "       [1.73871717e-20],\n",
              "       [1.00000000e+00],\n",
              "       [1.13476720e-21],\n",
              "       [9.99947011e-01],\n",
              "       [1.03721075e-19],\n",
              "       [9.99889016e-01],\n",
              "       [9.99989390e-01],\n",
              "       [9.98359919e-01],\n",
              "       [1.00000000e+00],\n",
              "       [9.99998569e-01],\n",
              "       [1.00000000e+00],\n",
              "       [5.51253925e-06],\n",
              "       [9.99841869e-01],\n",
              "       [9.99999523e-01],\n",
              "       [1.17554578e-06],\n",
              "       [9.99995053e-01],\n",
              "       [4.56230396e-08],\n",
              "       [1.03372684e-19],\n",
              "       [9.99997139e-01],\n",
              "       [4.16684705e-20],\n",
              "       [5.91879939e-22],\n",
              "       [7.58647978e-01],\n",
              "       [9.99998212e-01],\n",
              "       [9.99882936e-01],\n",
              "       [6.55854615e-09],\n",
              "       [9.99999285e-01],\n",
              "       [5.46741541e-09],\n",
              "       [3.08984838e-08],\n",
              "       [1.00000000e+00],\n",
              "       [1.00000000e+00],\n",
              "       [3.29410286e-17],\n",
              "       [1.00000000e+00],\n",
              "       [9.99455214e-01],\n",
              "       [1.00000000e+00],\n",
              "       [4.40764936e-22],\n",
              "       [1.00000000e+00],\n",
              "       [1.47656902e-22],\n",
              "       [1.00000000e+00],\n",
              "       [2.38547437e-19],\n",
              "       [8.76478523e-15],\n",
              "       [1.01566140e-04],\n",
              "       [9.99958038e-01],\n",
              "       [2.96542453e-07],\n",
              "       [9.99772489e-01],\n",
              "       [1.00000000e+00],\n",
              "       [9.99999762e-01],\n",
              "       [9.99946475e-01],\n",
              "       [5.19868308e-07],\n",
              "       [4.85735561e-22],\n",
              "       [9.99965191e-01],\n",
              "       [1.12741622e-11],\n",
              "       [4.04499515e-05],\n",
              "       [8.36475556e-06],\n",
              "       [2.30509217e-16],\n",
              "       [9.99927402e-01],\n",
              "       [1.00000000e+00],\n",
              "       [2.65553890e-09],\n",
              "       [1.00000000e+00],\n",
              "       [1.52983193e-05],\n",
              "       [4.92299490e-09],\n",
              "       [1.01788189e-21],\n",
              "       [9.99999762e-01],\n",
              "       [9.99758899e-01],\n",
              "       [9.99703765e-01],\n",
              "       [9.99988794e-01],\n",
              "       [9.99741733e-01],\n",
              "       [9.99998391e-01],\n",
              "       [1.00000000e+00],\n",
              "       [1.00000000e+00],\n",
              "       [9.99999523e-01],\n",
              "       [9.99997735e-01],\n",
              "       [4.84763483e-23],\n",
              "       [9.99774873e-01],\n",
              "       [1.00000000e+00],\n",
              "       [1.15877716e-08],\n",
              "       [5.91946309e-06],\n",
              "       [9.99989808e-01],\n",
              "       [9.99421537e-01],\n",
              "       [1.00000000e+00],\n",
              "       [9.45491511e-18],\n",
              "       [9.99999702e-01],\n",
              "       [3.66322342e-06],\n",
              "       [9.99952316e-01],\n",
              "       [9.99956489e-01],\n",
              "       [9.99956250e-01],\n",
              "       [1.00000000e+00],\n",
              "       [3.29638192e-11],\n",
              "       [9.99999166e-01],\n",
              "       [1.00000000e+00],\n",
              "       [1.00000000e+00],\n",
              "       [9.99924302e-01],\n",
              "       [9.99931991e-01],\n",
              "       [9.99999225e-01],\n",
              "       [9.99882281e-01],\n",
              "       [2.17620268e-07],\n",
              "       [9.99966621e-01],\n",
              "       [2.10036778e-05],\n",
              "       [9.99880552e-01],\n",
              "       [1.00000000e+00],\n",
              "       [2.93485060e-22],\n",
              "       [1.61392109e-05],\n",
              "       [2.43193918e-19],\n",
              "       [1.00000000e+00],\n",
              "       [9.99804378e-01],\n",
              "       [1.00000000e+00],\n",
              "       [1.22885600e-18],\n",
              "       [1.21425607e-08],\n",
              "       [5.86928254e-17],\n",
              "       [3.36926281e-17],\n",
              "       [1.64952071e-05],\n",
              "       [2.74408524e-10],\n",
              "       [1.20872439e-19],\n",
              "       [9.99969244e-01],\n",
              "       [8.93237427e-22],\n",
              "       [1.13273447e-04],\n",
              "       [1.00000000e+00],\n",
              "       [1.63560744e-05],\n",
              "       [9.99923587e-01],\n",
              "       [4.92637946e-06],\n",
              "       [1.04793035e-05],\n",
              "       [2.54445354e-06],\n",
              "       [9.99961019e-01],\n",
              "       [9.99892592e-01],\n",
              "       [9.99902725e-01],\n",
              "       [1.00000000e+00],\n",
              "       [9.99995232e-01],\n",
              "       [4.37948108e-03],\n",
              "       [6.36927434e-05],\n",
              "       [1.94609165e-04],\n",
              "       [9.99894142e-01],\n",
              "       [6.10314828e-07],\n",
              "       [3.02437976e-20],\n",
              "       [1.00000000e+00],\n",
              "       [2.50986911e-08],\n",
              "       [1.00000000e+00],\n",
              "       [9.99902666e-01],\n",
              "       [4.48054181e-12],\n",
              "       [6.95704117e-08],\n",
              "       [5.98041250e-24],\n",
              "       [1.00000000e+00],\n",
              "       [2.58940399e-22],\n",
              "       [3.71058489e-19],\n",
              "       [1.00000000e+00],\n",
              "       [9.99942660e-01],\n",
              "       [3.36957903e-20],\n",
              "       [5.43306123e-06],\n",
              "       [9.99355793e-01],\n",
              "       [9.99452412e-01],\n",
              "       [9.99996543e-01],\n",
              "       [7.66568883e-06],\n",
              "       [9.99997735e-01],\n",
              "       [2.09685325e-07],\n",
              "       [9.50480995e-20],\n",
              "       [1.00000000e+00],\n",
              "       [9.99995530e-01],\n",
              "       [9.99282777e-01],\n",
              "       [3.78086365e-22],\n",
              "       [2.86570191e-03],\n",
              "       [1.57145416e-06],\n",
              "       [2.96102598e-06],\n",
              "       [9.99828696e-01],\n",
              "       [1.00000000e+00],\n",
              "       [7.73619103e-12],\n",
              "       [9.99457836e-01],\n",
              "       [9.99988794e-01],\n",
              "       [9.99946713e-01],\n",
              "       [9.99989092e-01],\n",
              "       [4.19245104e-21],\n",
              "       [2.29636571e-05],\n",
              "       [4.39495398e-06],\n",
              "       [1.00000000e+00],\n",
              "       [9.99895692e-01],\n",
              "       [1.00000000e+00],\n",
              "       [1.00000000e+00],\n",
              "       [1.00000000e+00],\n",
              "       [2.73935568e-19],\n",
              "       [1.70717671e-20],\n",
              "       [1.25110149e-04],\n",
              "       [9.99996603e-01],\n",
              "       [9.99892354e-01],\n",
              "       [2.39820110e-07],\n",
              "       [9.99996901e-01],\n",
              "       [1.22863054e-03],\n",
              "       [1.00000000e+00],\n",
              "       [9.99987841e-01],\n",
              "       [7.33718597e-09],\n",
              "       [9.99898016e-01],\n",
              "       [6.73329259e-06],\n",
              "       [5.72026994e-20],\n",
              "       [1.00000000e+00],\n",
              "       [9.99880672e-01],\n",
              "       [3.17260684e-09],\n",
              "       [2.22012964e-11],\n",
              "       [4.12122863e-05],\n",
              "       [7.74267301e-06],\n",
              "       [9.99981165e-01],\n",
              "       [3.32105340e-17],\n",
              "       [1.00000000e+00],\n",
              "       [1.07628694e-07],\n",
              "       [1.78618098e-08],\n",
              "       [3.24545688e-14],\n",
              "       [9.99879003e-01],\n",
              "       [9.99948263e-01],\n",
              "       [5.76645700e-19],\n",
              "       [2.04030221e-05],\n",
              "       [1.00000000e+00],\n",
              "       [1.00000000e+00],\n",
              "       [2.35766584e-05],\n",
              "       [9.99986947e-01],\n",
              "       [9.99999285e-01],\n",
              "       [9.99717474e-01],\n",
              "       [1.39846750e-22],\n",
              "       [9.99901533e-01],\n",
              "       [1.00000000e+00],\n",
              "       [1.00000000e+00],\n",
              "       [9.99999821e-01],\n",
              "       [1.25995684e-05],\n",
              "       [9.99999762e-01],\n",
              "       [9.99988437e-01],\n",
              "       [4.37140465e-04],\n",
              "       [1.00000000e+00],\n",
              "       [9.99898195e-01],\n",
              "       [4.08132367e-23],\n",
              "       [8.82368795e-07],\n",
              "       [4.12800218e-05],\n",
              "       [5.38006974e-22],\n",
              "       [7.56592215e-07],\n",
              "       [9.99994874e-01],\n",
              "       [8.70515214e-05],\n",
              "       [1.00000000e+00],\n",
              "       [9.99997079e-01],\n",
              "       [5.21081929e-05],\n",
              "       [4.74307526e-05],\n",
              "       [5.54184696e-19],\n",
              "       [2.03660170e-06],\n",
              "       [9.99971867e-01],\n",
              "       [5.18489906e-05],\n",
              "       [3.82648250e-05],\n",
              "       [9.99988794e-01],\n",
              "       [1.64661583e-11],\n",
              "       [2.23375596e-22],\n",
              "       [9.99999523e-01],\n",
              "       [1.00000000e+00],\n",
              "       [1.00000000e+00],\n",
              "       [9.99850869e-01],\n",
              "       [1.00000000e+00],\n",
              "       [7.06879946e-05],\n",
              "       [2.58046754e-07],\n",
              "       [9.99942482e-01],\n",
              "       [9.99982834e-01],\n",
              "       [9.99989510e-01],\n",
              "       [6.90308880e-05],\n",
              "       [2.48569506e-07],\n",
              "       [9.24881790e-21],\n",
              "       [2.00390309e-06],\n",
              "       [3.10363646e-18],\n",
              "       [7.49338626e-19],\n",
              "       [2.60178191e-21],\n",
              "       [9.99999464e-01],\n",
              "       [1.15652912e-16],\n",
              "       [9.98579025e-01],\n",
              "       [1.00000000e+00],\n",
              "       [1.00000000e+00],\n",
              "       [9.99645948e-01],\n",
              "       [1.44224068e-05],\n",
              "       [1.99183578e-05],\n",
              "       [1.00000000e+00],\n",
              "       [1.00000000e+00],\n",
              "       [9.99981165e-01],\n",
              "       [1.00000000e+00],\n",
              "       [1.91382954e-09],\n",
              "       [3.25462133e-05],\n",
              "       [9.99994695e-01],\n",
              "       [5.08985358e-05],\n",
              "       [9.99990880e-01],\n",
              "       [9.99998271e-01],\n",
              "       [1.11029374e-04],\n",
              "       [2.49901477e-09],\n",
              "       [7.95899240e-08],\n",
              "       [3.71844544e-06],\n",
              "       [1.01498212e-20],\n",
              "       [1.51371471e-10],\n",
              "       [3.32879967e-19],\n",
              "       [6.88460755e-09],\n",
              "       [5.84459850e-23],\n",
              "       [1.00000000e+00],\n",
              "       [9.99951720e-01],\n",
              "       [6.80861888e-07],\n",
              "       [9.99290228e-01],\n",
              "       [9.99647617e-01],\n",
              "       [1.39967352e-11],\n",
              "       [1.01471428e-10],\n",
              "       [1.00000000e+00],\n",
              "       [9.30574888e-12],\n",
              "       [8.53459278e-06],\n",
              "       [1.28537416e-04],\n",
              "       [1.36917106e-05],\n",
              "       [1.19725884e-15],\n",
              "       [2.98150453e-19],\n",
              "       [1.00000000e+00],\n",
              "       [1.00000000e+00],\n",
              "       [1.00000000e+00],\n",
              "       [1.00000000e+00],\n",
              "       [1.59652288e-07],\n",
              "       [2.79773550e-19],\n",
              "       [3.32742843e-06],\n",
              "       [3.35551413e-05],\n",
              "       [2.36541033e-04],\n",
              "       [2.44931992e-20],\n",
              "       [9.97373641e-01],\n",
              "       [5.20199610e-05],\n",
              "       [8.64450215e-07],\n",
              "       [3.63893826e-09],\n",
              "       [8.17919938e-20],\n",
              "       [1.75002768e-07],\n",
              "       [9.97744381e-01],\n",
              "       [9.99984980e-01],\n",
              "       [3.54121816e-08],\n",
              "       [1.67673826e-03],\n",
              "       [4.39073347e-07],\n",
              "       [1.74939993e-11],\n",
              "       [3.73877013e-10],\n",
              "       [1.00000000e+00],\n",
              "       [9.12931318e-06],\n",
              "       [1.00000000e+00],\n",
              "       [9.99998450e-01],\n",
              "       [1.00000000e+00],\n",
              "       [9.99892950e-01],\n",
              "       [1.79947108e-06],\n",
              "       [1.10620094e-18],\n",
              "       [9.99781251e-01],\n",
              "       [8.99697650e-10],\n",
              "       [9.99996781e-01],\n",
              "       [5.70286684e-05],\n",
              "       [1.57199461e-18],\n",
              "       [9.99822378e-01],\n",
              "       [7.63883297e-23],\n",
              "       [1.14901361e-07],\n",
              "       [1.00000000e+00],\n",
              "       [2.12189853e-16],\n",
              "       [4.62099168e-22],\n",
              "       [1.30558233e-19],\n",
              "       [1.97884365e-05],\n",
              "       [9.99997020e-01],\n",
              "       [2.01320484e-19],\n",
              "       [7.76981864e-12],\n",
              "       [9.99994516e-01],\n",
              "       [3.89728569e-20],\n",
              "       [1.00000000e+00],\n",
              "       [9.99981523e-01],\n",
              "       [1.12357429e-06],\n",
              "       [9.99912441e-01],\n",
              "       [9.99998450e-01],\n",
              "       [4.03157755e-05],\n",
              "       [1.09243474e-16],\n",
              "       [9.99999285e-01],\n",
              "       [1.79399672e-15],\n",
              "       [2.46197317e-07],\n",
              "       [9.99988019e-01],\n",
              "       [6.71046782e-20],\n",
              "       [1.00000000e+00],\n",
              "       [9.99966264e-01],\n",
              "       [3.34402161e-19],\n",
              "       [9.99940217e-01],\n",
              "       [9.99878705e-01],\n",
              "       [3.70667999e-06],\n",
              "       [3.77932997e-06],\n",
              "       [1.00000000e+00],\n",
              "       [2.24554947e-06],\n",
              "       [1.04374731e-05],\n",
              "       [4.54842193e-05],\n",
              "       [5.49802184e-03],\n",
              "       [9.99991417e-01],\n",
              "       [1.00000000e+00],\n",
              "       [9.99888659e-01],\n",
              "       [1.72342188e-05],\n",
              "       [1.00000000e+00],\n",
              "       [9.91469860e-01],\n",
              "       [5.31629495e-22],\n",
              "       [9.99999523e-01],\n",
              "       [5.09983789e-09],\n",
              "       [9.99999583e-01],\n",
              "       [5.60141814e-07],\n",
              "       [4.52855093e-05],\n",
              "       [9.99997854e-01],\n",
              "       [9.99999523e-01],\n",
              "       [1.20591038e-04],\n",
              "       [9.99859691e-01],\n",
              "       [1.95438424e-21],\n",
              "       [9.99998271e-01],\n",
              "       [1.00000000e+00],\n",
              "       [1.00000000e+00],\n",
              "       [1.00000000e+00],\n",
              "       [1.00000000e+00],\n",
              "       [9.99981463e-01],\n",
              "       [1.85555859e-06],\n",
              "       [5.96312200e-09],\n",
              "       [4.59469629e-05],\n",
              "       [6.90367472e-07],\n",
              "       [9.99870658e-01],\n",
              "       [7.92590703e-23],\n",
              "       [1.00000000e+00],\n",
              "       [3.56111656e-07],\n",
              "       [1.00000000e+00],\n",
              "       [9.99992132e-01],\n",
              "       [9.99768615e-01],\n",
              "       [2.83209244e-22],\n",
              "       [8.99286533e-05],\n",
              "       [9.99988854e-01],\n",
              "       [1.85504168e-10],\n",
              "       [9.99994159e-01],\n",
              "       [2.90399790e-03],\n",
              "       [9.99998450e-01],\n",
              "       [9.99647915e-01],\n",
              "       [9.99896765e-01],\n",
              "       [1.00000000e+00],\n",
              "       [1.78002447e-05],\n",
              "       [1.59133560e-06],\n",
              "       [2.74697376e-19],\n",
              "       [1.00000000e+00],\n",
              "       [9.99954343e-01],\n",
              "       [3.53455544e-04],\n",
              "       [1.00000000e+00],\n",
              "       [1.07929598e-23],\n",
              "       [5.69900358e-08],\n",
              "       [1.00000000e+00],\n",
              "       [9.99999702e-01],\n",
              "       [1.09395771e-07],\n",
              "       [9.93537297e-21],\n",
              "       [1.00000000e+00],\n",
              "       [9.60897047e-19],\n",
              "       [2.05993266e-19],\n",
              "       [2.28152075e-08],\n",
              "       [1.77685536e-06],\n",
              "       [2.91643337e-05],\n",
              "       [1.30216753e-08],\n",
              "       [1.00000000e+00],\n",
              "       [6.80383528e-05],\n",
              "       [9.99999762e-01],\n",
              "       [8.43126486e-07],\n",
              "       [3.10825534e-08],\n",
              "       [6.30718432e-07],\n",
              "       [9.99996722e-01],\n",
              "       [2.68302131e-07],\n",
              "       [9.99999821e-01],\n",
              "       [3.03397165e-08],\n",
              "       [9.99615073e-01],\n",
              "       [9.99968171e-01],\n",
              "       [6.07809943e-06],\n",
              "       [9.99895692e-01],\n",
              "       [9.99970198e-01],\n",
              "       [9.99999762e-01],\n",
              "       [2.11983918e-20],\n",
              "       [1.00000000e+00],\n",
              "       [4.34429239e-05],\n",
              "       [5.56186359e-18],\n",
              "       [2.22914558e-08],\n",
              "       [9.99972701e-01],\n",
              "       [2.21486926e-10],\n",
              "       [9.99582231e-01],\n",
              "       [1.00000000e+00],\n",
              "       [3.08857580e-08],\n",
              "       [1.00000000e+00],\n",
              "       [1.16372930e-05],\n",
              "       [9.99927938e-01],\n",
              "       [2.89311075e-11],\n",
              "       [3.05414696e-16],\n",
              "       [9.99996066e-01],\n",
              "       [7.38962184e-22],\n",
              "       [1.90820346e-11],\n",
              "       [1.00000000e+00],\n",
              "       [3.50575124e-06],\n",
              "       [9.99999762e-01],\n",
              "       [7.99177869e-05],\n",
              "       [5.33077673e-06],\n",
              "       [2.46888441e-23],\n",
              "       [7.52718188e-05],\n",
              "       [9.99879658e-01],\n",
              "       [1.28094300e-08],\n",
              "       [9.99471962e-01],\n",
              "       [9.35294867e-01],\n",
              "       [1.72820224e-21],\n",
              "       [9.99989510e-01],\n",
              "       [3.75160400e-19],\n",
              "       [8.54181396e-12],\n",
              "       [5.74336412e-11],\n",
              "       [1.00000000e+00],\n",
              "       [9.99760151e-01],\n",
              "       [9.99996006e-01],\n",
              "       [9.99999642e-01],\n",
              "       [1.90237080e-11],\n",
              "       [9.99995589e-01],\n",
              "       [3.07500362e-04],\n",
              "       [3.36491390e-10]], dtype=float32)"
            ]
          },
          "execution_count": 28,
          "metadata": {},
          "output_type": "execute_result"
        }
      ],
      "source": [
        "#making predictions\n",
        "preds=model.predict(X_test)\n",
        "preds.round(1)\n",
        "preds"
      ]
    },
    {
      "cell_type": "code",
      "execution_count": null,
      "metadata": {
        "colab": {
          "base_uri": "https://localhost:8080/"
        },
        "id": "ICfzW29X8Iqv",
        "outputId": "66be6b79-3f0e-4a39-8179-2ab83137d4a9"
      },
      "outputs": [
        {
          "data": {
            "text/plain": [
              "array([[510,   0],\n",
              "       [  3, 487]])"
            ]
          },
          "execution_count": 29,
          "metadata": {},
          "output_type": "execute_result"
        }
      ],
      "source": [
        "#coming up with a confusion matrix\n",
        "confusion_matrix=tf.math.confusion_matrix(labels=y_test,predictions=preds.round()).numpy()\n",
        "\n",
        "confusion_matrix"
      ]
    },
    {
      "cell_type": "code",
      "execution_count": null,
      "metadata": {
        "colab": {
          "base_uri": "https://localhost:8080/",
          "height": 449
        },
        "id": "pIM5LvEr8nht",
        "outputId": "d2f48db9-909b-452e-b7a1-6b467e5e9a57"
      },
      "outputs": [
        {
          "data": {
            "image/png": "[encoded data removed]",
            "text/plain": [
              "<Figure size 432x432 with 2 Axes>"
            ]
          },
          "metadata": {
            "needs_background": "light"
          },
          "output_type": "display_data"
        }
      ],
      "source": [
        "#visualising the confusion matrix\n",
        "\n",
        "import seaborn as sns \n",
        "figure =plt.figure(figsize=(6,6))\n",
        "sns.set(font_scale=1.4)\n",
        "sns.heatmap(confusion_matrix,annot=True,cmap=plt.cm.Blues,fmt='g')\n",
        "plt.tight_layout()\n",
        "plt.ylabel('True Label')\n",
        "plt.xlabel('Predicted Label')\n",
        "plt.show()"
      ]
    },
    {
      "cell_type": "code",
      "execution_count": null,
      "metadata": {
        "id": "38-43hJx9y7-"
      },
      "outputs": [],
      "source": [
        "tn, fp, fn, tp =confusion_matrix.ravel()"
      ]
    },
    {
      "cell_type": "code",
      "execution_count": null,
      "metadata": {
        "colab": {
          "base_uri": "https://localhost:8080/"
        },
        "id": "5nAEiSVi97Fe",
        "outputId": "b2860216-a21f-4351-8d4d-0718e34ab0f8"
      },
      "outputs": [
        {
          "name": "stdout",
          "output_type": "stream",
          "text": [
            "recall: 1.0\n",
            "precision: 0.9938775510204082\n",
            "f1_score: 0.4984646878198567\n",
            "accuracy: 0.997\n"
          ]
        }
      ],
      "source": [
        "#Calculating recall\n",
        "recall=tp/(tp+fp)\n",
        "print(f'recall: {recall}')\n",
        "#Calculating precision\n",
        "precision=tp/(tp+fn)\n",
        "print(f'precision: {precision}')\n",
        "#Calculating f1-score\n",
        "f1_score=(precision*recall)/(precision+recall)\n",
        "print(f'f1_score: {f1_score}')\n",
        "#Calculating accuracy\n",
        "accuracy=(tn+tp)/(tn+fp+fn+tp)\n",
        "print(f'accuracy: {accuracy}')"
      ]
    },
    {
      "cell_type": "code",
      "execution_count": null,
      "metadata": {
        "id": "9wOkEBpKBUrl"
      },
      "outputs": [],
      "source": [
        "#Saving the best model\n",
        "model.save('./webcam_script/final_model.h5')"
      ]
    },
    {
      "cell_type": "markdown",
      "metadata": {},
      "source": [
        "# Challenging the model\n",
        "For this section, a transfer learning model will be used.Transfer learning for image classification is about leveraging feature representations from a pre-trained model, so you don't have to train a new model from scratch. The pre-trained models are usually trained on massive datasets that are a standard benchmark in the computer vision frontier.\n",
        "\n",
        "More spefically in this project will use VGG19, which is an advanced network with pretrained layers and a better understanding of what defines an image in terms of shape, color, and structure. VGG19 is very deep and has been trained on millions of diverse images with complex classification tasks.\n",
        "\n",
        "VGG19 consists of 19 layers:\n",
        "\n",
        "16 convolution layers\n",
        "5 MaxPool layers\n",
        "1 SoftMax layer\n",
        "3 fully connected layers"
      ]
    },
    {
      "cell_type": "code",
      "execution_count": null,
      "metadata": {},
      "outputs": [],
      "source": [
        "vgg19_model = VGG19(weights='imagenet',\n",
        "                  include_top=False,\n",
        "                  input_shape=(80, 80, 3))"
      ]
    },
    {
      "cell_type": "markdown",
      "metadata": {},
      "source": [
        "The VGG19 model wasn't trained any further, only froze its layers and appended a shallow 2 layer network on top of it to perform my classification task of identifying images of closed and open eyes."
      ]
    },
    {
      "cell_type": "code",
      "execution_count": null,
      "metadata": {},
      "outputs": [],
      "source": [
        "\n",
        "#Add the pretrained model as the first layer and adding dense layers\n",
        "vgg_model =Sequential()\n",
        "vgg_model.add(vgg19_model)\n",
        "vgg_model.add(layers.Flatten())\n",
        "vgg_model.add(layers.Dense(132, activation='relu'))\n",
        "vgg_model.add(layers.Dense(1, activation='sigmoid'))"
      ]
    },
    {
      "cell_type": "markdown",
      "metadata": {},
      "source": [
        "Freezing layers\n",
        "This means that all of the weights associated with that layer(s) will remain unchanged through the optimization process. Freezing the base is important as you wish to preserve the features encoded in this CNN base. Without this, the volatile gradients will quickly erase the useful features of the pretrained model."
      ]
    },
    {
      "cell_type": "code",
      "execution_count": null,
      "metadata": {},
      "outputs": [],
      "source": [
        "# Checking whether a layer is trainable\n",
        "for layer in vgg_model.layers:\n",
        "    print(layer.name, layer.trainable)\n",
        "    \n",
        "# Checking how many trainable weights are in the model\n",
        "print(len(vgg_model.trainable_weights))"
      ]
    },
    {
      "cell_type": "code",
      "execution_count": null,
      "metadata": {},
      "outputs": [],
      "source": [
        "# Checking whether a layer is trainable\n",
        "for layer in vgg_model.layers:\n",
        "    print(layer.name, layer.trainable)\n",
        "    \n",
        "# Checking how many trainable weights are in the model\n",
        "print(len(vgg_model.trainable_weights))"
      ]
    },
    {
      "cell_type": "code",
      "execution_count": null,
      "metadata": {},
      "outputs": [],
      "source": [
        "#compiling \n",
        "vgg_model.compile(loss='binary_crossentropy',optimizer='adam', metrics=[tf.keras.metrics.AUC(curve='PR')])\n",
        "\n",
        "#fitting on train data\n",
        "history2 = vgg_model.fit(X_train,y_train,batch_size=200, epochs=10,validation_data=(X_test, y_test))"
      ]
    },
    {
      "cell_type": "code",
      "execution_count": null,
      "metadata": {},
      "outputs": [],
      "source": [
        "vgg_model.summary()"
      ]
    },
    {
      "cell_type": "code",
      "execution_count": null,
      "metadata": {},
      "outputs": [],
      "source": [
        "evaluate(vgg_model)"
      ]
    },
    {
      "cell_type": "code",
      "execution_count": null,
      "metadata": {},
      "outputs": [],
      "source": [
        "evaluation_visual(history2,'auc_2','val_auc_2')"
      ]
    },
    {
      "cell_type": "markdown",
      "metadata": {},
      "source": [
        "# Areas for Further Research\n",
        "- Low Light conditions, accounting for other passengers\n",
        "- Additional test data for closed eyes\n",
        "- Image augmentation like rotated or flipped images\n",
        "- Deployment of app to remote server"
      ]
    },
    {
      "cell_type": "markdown",
      "metadata": {},
      "source": []
    }
  ],
  "metadata": {
    "accelerator": "GPU",
    "colab": {
      "provenance": []
    },
    "gpuClass": "standard",
    "kernelspec": {
      "display_name": "Python 3.9.12 ('base')",
      "language": "python",
      "name": "python3"
    },
    "language_info": {
      "codemirror_mode": {
        "name": "ipython",
        "version": 3
      },
      "file_extension": ".py",
      "mimetype": "text/x-python",
      "name": "python",
      "nbconvert_exporter": "python",
      "pygments_lexer": "ipython3",
      "version": "3.9.12"
    },
    "orig_nbformat": 4,
    "vscode": {
      "interpreter": {
        "hash": "38bd655a959ef317cd07ee04ac9775f7be4538ff32361dcfaef965c848ac4594"
      }
    }
  },
  "nbformat": 4,
  "nbformat_minor": 0
}
